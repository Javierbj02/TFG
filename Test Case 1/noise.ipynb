{
 "cells": [
  {
   "cell_type": "code",
   "execution_count": 23,
   "metadata": {},
   "outputs": [],
   "source": [
    "import pandas as pd\n",
    "import numpy as np"
   ]
  },
  {
   "cell_type": "code",
   "execution_count": 24,
   "metadata": {},
   "outputs": [],
   "source": [
    "df = pd.read_csv(\"C:/Users/javi2/Desktop/TFG - Webots/TFG/Data/Test Case 1/No ruido/ULA_8.csv\")"
   ]
  },
  {
   "cell_type": "code",
   "execution_count": 27,
   "metadata": {},
   "outputs": [
    {
     "name": "stderr",
     "output_type": "stream",
     "text": [
      "C:\\Users\\javi2\\AppData\\Local\\Temp\\ipykernel_9872\\2314008387.py:29: PerformanceWarning: DataFrame is highly fragmented.  This is usually the result of calling `frame.insert` many times, which has poor performance.  Consider joining all columns at once using pd.concat(axis=1) instead. To get a de-fragmented frame, use `newframe = frame.copy()`\n",
      "  data_noisy['PosicionX'] = posicionX\n",
      "C:\\Users\\javi2\\AppData\\Local\\Temp\\ipykernel_9872\\2314008387.py:30: PerformanceWarning: DataFrame is highly fragmented.  This is usually the result of calling `frame.insert` many times, which has poor performance.  Consider joining all columns at once using pd.concat(axis=1) instead. To get a de-fragmented frame, use `newframe = frame.copy()`\n",
      "  data_noisy['PosicionY'] = posicionY\n"
     ]
    }
   ],
   "source": [
    "data = df.copy()\n",
    "\n",
    "posicionX = data['PosicionX']\n",
    "posicionY = data['PosicionY']\n",
    "\n",
    "# Elimino las columnas de posición\n",
    "data = data.drop(['PosicionX', 'PosicionY'], axis=1)\n",
    "\n",
    "columns_modulo = data.columns[::2] # Columnas de los módulos\n",
    "columns_fase = data.columns[1::2] # Columnas de las fases\n",
    "\n",
    "std_devs_modulo = data[columns_modulo].std() # Desviación típica de los módulos\n",
    "std_devs_fase = data[columns_fase].std() # Desviación típica de las fases\n",
    "\n",
    "# Generar ruido con baja escala de desviación típica al módulo\n",
    "low_scale_noise_modulo = np.random.normal(loc=0, scale=0.3*std_devs_modulo, size=data[columns_modulo].shape)\n",
    "\n",
    "# Generar ruido con baja escala de la desviación típica a la fase. Tener en cuenta que la fase está definida dentro de los rangos de -pi a pi.\n",
    "low_scale_noise_fase = np.random.normal(loc=0, scale=0.3*std_devs_fase, size=data[columns_fase].shape)\n",
    "\n",
    "data_noisy = data.copy()\n",
    "data_noisy[columns_modulo] += low_scale_noise_modulo\n",
    "data_noisy[columns_fase] += low_scale_noise_fase\n",
    "# data_noisy[columns_fase] = np.mod(data_noisy[columns_fase] + np.pi, 2*np.pi) - np.pi\n",
    "\n",
    "data_noisy[columns_modulo] = np.clip(data_noisy[columns_modulo], 0, 1)\n",
    "data_noisy[columns_fase] = np.clip(data_noisy[columns_fase], -np.pi, np.pi)\n",
    "\n",
    "data_noisy['PosicionX'] = posicionX\n",
    "data_noisy['PosicionY'] = posicionY\n",
    "\n",
    "data_noisy.to_csv(\"C:/Users/javi2/Desktop/TFG - Webots/TFG/Data/Test Case 1/Ruido bajo/ULA_8.csv\", index=False)\n",
    "\n"
   ]
  },
  {
   "cell_type": "code",
   "execution_count": 28,
   "metadata": {},
   "outputs": [
    {
     "name": "stderr",
     "output_type": "stream",
     "text": [
      "C:\\Users\\javi2\\AppData\\Local\\Temp\\ipykernel_9872\\1706106122.py:29: PerformanceWarning: DataFrame is highly fragmented.  This is usually the result of calling `frame.insert` many times, which has poor performance.  Consider joining all columns at once using pd.concat(axis=1) instead. To get a de-fragmented frame, use `newframe = frame.copy()`\n",
      "  data_noisy['PosicionX'] = posicionX\n",
      "C:\\Users\\javi2\\AppData\\Local\\Temp\\ipykernel_9872\\1706106122.py:30: PerformanceWarning: DataFrame is highly fragmented.  This is usually the result of calling `frame.insert` many times, which has poor performance.  Consider joining all columns at once using pd.concat(axis=1) instead. To get a de-fragmented frame, use `newframe = frame.copy()`\n",
      "  data_noisy['PosicionY'] = posicionY\n"
     ]
    }
   ],
   "source": [
    "data = df.copy()\n",
    "\n",
    "posicionX = data['PosicionX']\n",
    "posicionY = data['PosicionY']\n",
    "\n",
    "# Elimino las columnas de posición\n",
    "data = data.drop(['PosicionX', 'PosicionY'], axis=1)\n",
    "\n",
    "columns_modulo = data.columns[::2] # Columnas de los módulos\n",
    "columns_fase = data.columns[1::2] # Columnas de las fases\n",
    "\n",
    "std_devs_modulo = data[columns_modulo].std() # Desviación típica de los módulos\n",
    "std_devs_fase = data[columns_fase].std() # Desviación típica de las fases\n",
    "\n",
    "# Generar ruido con media escala de desviación típica al módulo\n",
    "low_scale_noise_modulo = np.random.normal(loc=0, scale=0.6*std_devs_modulo, size=data[columns_modulo].shape)\n",
    "\n",
    "# Generar ruido con media escala de la desviación típica a la fase. Tener en cuenta que la fase está definida dentro de los rangos de -pi a pi.\n",
    "low_scale_noise_fase = np.random.normal(loc=0, scale=0.6*std_devs_fase, size=data[columns_fase].shape)\n",
    "\n",
    "data_noisy = data.copy()\n",
    "data_noisy[columns_modulo] += low_scale_noise_modulo\n",
    "data_noisy[columns_fase] += low_scale_noise_fase\n",
    "# data_noisy[columns_fase] = np.mod(data_noisy[columns_fase] + np.pi, 2*np.pi) - np.pi\n",
    "\n",
    "data_noisy[columns_modulo] = np.clip(data_noisy[columns_modulo], 0, 1)\n",
    "data_noisy[columns_fase] = np.clip(data_noisy[columns_fase], -np.pi, np.pi)\n",
    "\n",
    "data_noisy['PosicionX'] = posicionX\n",
    "data_noisy['PosicionY'] = posicionY\n",
    "\n",
    "data_noisy.to_csv(\"C:/Users/javi2/Desktop/TFG - Webots/TFG/Data/Test Case 1/Ruido medio/ULA_8.csv\", index=False)\n",
    "\n"
   ]
  },
  {
   "cell_type": "code",
   "execution_count": 29,
   "metadata": {},
   "outputs": [
    {
     "name": "stderr",
     "output_type": "stream",
     "text": [
      "C:\\Users\\javi2\\AppData\\Local\\Temp\\ipykernel_9872\\1691222205.py:29: PerformanceWarning: DataFrame is highly fragmented.  This is usually the result of calling `frame.insert` many times, which has poor performance.  Consider joining all columns at once using pd.concat(axis=1) instead. To get a de-fragmented frame, use `newframe = frame.copy()`\n",
      "  data_noisy['PosicionX'] = posicionX\n",
      "C:\\Users\\javi2\\AppData\\Local\\Temp\\ipykernel_9872\\1691222205.py:30: PerformanceWarning: DataFrame is highly fragmented.  This is usually the result of calling `frame.insert` many times, which has poor performance.  Consider joining all columns at once using pd.concat(axis=1) instead. To get a de-fragmented frame, use `newframe = frame.copy()`\n",
      "  data_noisy['PosicionY'] = posicionY\n"
     ]
    }
   ],
   "source": [
    "data = df.copy()\n",
    "\n",
    "posicionX = data['PosicionX']\n",
    "posicionY = data['PosicionY']\n",
    "\n",
    "# Elimino las columnas de posición\n",
    "data = data.drop(['PosicionX', 'PosicionY'], axis=1)\n",
    "\n",
    "columns_modulo = data.columns[::2] # Columnas de los módulos\n",
    "columns_fase = data.columns[1::2] # Columnas de las fases\n",
    "\n",
    "std_devs_modulo = data[columns_modulo].std() # Desviación típica de los módulos\n",
    "std_devs_fase = data[columns_fase].std() # Desviación típica de las fases\n",
    "\n",
    "# Generar ruido con elevada escala de desviación típica al módulo\n",
    "low_scale_noise_modulo = np.random.normal(loc=0, scale=1*std_devs_modulo, size=data[columns_modulo].shape)\n",
    "\n",
    "# Generar ruido con elevada escala de la desviación típica a la fase. Tener en cuenta que la fase está definida dentro de los rangos de -pi a pi.\n",
    "low_scale_noise_fase = np.random.normal(loc=0, scale=1*std_devs_fase, size=data[columns_fase].shape)\n",
    "\n",
    "data_noisy = data.copy()\n",
    "data_noisy[columns_modulo] += low_scale_noise_modulo\n",
    "data_noisy[columns_fase] += low_scale_noise_fase\n",
    "# data_noisy[columns_fase] = np.mod(data_noisy[columns_fase] + np.pi, 2*np.pi) - np.pi\n",
    "\n",
    "data_noisy[columns_modulo] = np.clip(data_noisy[columns_modulo], 0, 1)\n",
    "data_noisy[columns_fase] = np.clip(data_noisy[columns_fase], -np.pi, np.pi)\n",
    "\n",
    "data_noisy['PosicionX'] = posicionX\n",
    "data_noisy['PosicionY'] = posicionY\n",
    "\n",
    "data_noisy.to_csv(\"C:/Users/javi2/Desktop/TFG - Webots/TFG/Data/Test Case 1/Ruido elevado/ULA_8.csv\", index=False)\n",
    "\n"
   ]
  },
  {
   "cell_type": "code",
   "execution_count": 30,
   "metadata": {},
   "outputs": [],
   "source": [
    "df = pd.read_csv(\"C:/Users/javi2/Desktop/TFG - Webots/TFG/Data/Test Case 1/No ruido/ULA_16.csv\")"
   ]
  },
  {
   "cell_type": "code",
   "execution_count": 31,
   "metadata": {},
   "outputs": [
    {
     "name": "stderr",
     "output_type": "stream",
     "text": [
      "C:\\Users\\javi2\\AppData\\Local\\Temp\\ipykernel_9872\\3455034666.py:29: PerformanceWarning: DataFrame is highly fragmented.  This is usually the result of calling `frame.insert` many times, which has poor performance.  Consider joining all columns at once using pd.concat(axis=1) instead. To get a de-fragmented frame, use `newframe = frame.copy()`\n",
      "  data_noisy['PosicionX'] = posicionX\n",
      "C:\\Users\\javi2\\AppData\\Local\\Temp\\ipykernel_9872\\3455034666.py:30: PerformanceWarning: DataFrame is highly fragmented.  This is usually the result of calling `frame.insert` many times, which has poor performance.  Consider joining all columns at once using pd.concat(axis=1) instead. To get a de-fragmented frame, use `newframe = frame.copy()`\n",
      "  data_noisy['PosicionY'] = posicionY\n"
     ]
    }
   ],
   "source": [
    "data = df.copy()\n",
    "\n",
    "posicionX = data['PosicionX']\n",
    "posicionY = data['PosicionY']\n",
    "\n",
    "# Elimino las columnas de posición\n",
    "data = data.drop(['PosicionX', 'PosicionY'], axis=1)\n",
    "\n",
    "columns_modulo = data.columns[::2] # Columnas de los módulos\n",
    "columns_fase = data.columns[1::2] # Columnas de las fases\n",
    "\n",
    "std_devs_modulo = data[columns_modulo].std() # Desviación típica de los módulos\n",
    "std_devs_fase = data[columns_fase].std() # Desviación típica de las fases\n",
    "\n",
    "# Generar ruido con baja escala de desviación típica al módulo\n",
    "low_scale_noise_modulo = np.random.normal(loc=0, scale=0.3*std_devs_modulo, size=data[columns_modulo].shape)\n",
    "\n",
    "# Generar ruido con baja escala de la desviación típica a la fase. Tener en cuenta que la fase está definida dentro de los rangos de -pi a pi.\n",
    "low_scale_noise_fase = np.random.normal(loc=0, scale=0.3*std_devs_fase, size=data[columns_fase].shape)\n",
    "\n",
    "data_noisy = data.copy()\n",
    "data_noisy[columns_modulo] += low_scale_noise_modulo\n",
    "data_noisy[columns_fase] += low_scale_noise_fase\n",
    "# data_noisy[columns_fase] = np.mod(data_noisy[columns_fase] + np.pi, 2*np.pi) - np.pi\n",
    "\n",
    "data_noisy[columns_modulo] = np.clip(data_noisy[columns_modulo], 0, 1)\n",
    "data_noisy[columns_fase] = np.clip(data_noisy[columns_fase], -np.pi, np.pi)\n",
    "\n",
    "data_noisy['PosicionX'] = posicionX\n",
    "data_noisy['PosicionY'] = posicionY\n",
    "\n",
    "data_noisy.to_csv(\"C:/Users/javi2/Desktop/TFG - Webots/TFG/Data/Test Case 1/Ruido bajo/ULA_16.csv\", index=False)\n",
    "\n"
   ]
  },
  {
   "cell_type": "code",
   "execution_count": 32,
   "metadata": {},
   "outputs": [
    {
     "name": "stderr",
     "output_type": "stream",
     "text": [
      "C:\\Users\\javi2\\AppData\\Local\\Temp\\ipykernel_9872\\396835479.py:29: PerformanceWarning: DataFrame is highly fragmented.  This is usually the result of calling `frame.insert` many times, which has poor performance.  Consider joining all columns at once using pd.concat(axis=1) instead. To get a de-fragmented frame, use `newframe = frame.copy()`\n",
      "  data_noisy['PosicionX'] = posicionX\n",
      "C:\\Users\\javi2\\AppData\\Local\\Temp\\ipykernel_9872\\396835479.py:30: PerformanceWarning: DataFrame is highly fragmented.  This is usually the result of calling `frame.insert` many times, which has poor performance.  Consider joining all columns at once using pd.concat(axis=1) instead. To get a de-fragmented frame, use `newframe = frame.copy()`\n",
      "  data_noisy['PosicionY'] = posicionY\n"
     ]
    }
   ],
   "source": [
    "data = df.copy()\n",
    "\n",
    "posicionX = data['PosicionX']\n",
    "posicionY = data['PosicionY']\n",
    "\n",
    "# Elimino las columnas de posición\n",
    "data = data.drop(['PosicionX', 'PosicionY'], axis=1)\n",
    "\n",
    "columns_modulo = data.columns[::2] # Columnas de los módulos\n",
    "columns_fase = data.columns[1::2] # Columnas de las fases\n",
    "\n",
    "std_devs_modulo = data[columns_modulo].std() # Desviación típica de los módulos\n",
    "std_devs_fase = data[columns_fase].std() # Desviación típica de las fases\n",
    "\n",
    "# Generar ruido con media escala de desviación típica al módulo\n",
    "low_scale_noise_modulo = np.random.normal(loc=0, scale=0.6*std_devs_modulo, size=data[columns_modulo].shape)\n",
    "\n",
    "# Generar ruido con media escala de la desviación típica a la fase. Tener en cuenta que la fase está definida dentro de los rangos de -pi a pi.\n",
    "low_scale_noise_fase = np.random.normal(loc=0, scale=0.6*std_devs_fase, size=data[columns_fase].shape)\n",
    "\n",
    "data_noisy = data.copy()\n",
    "data_noisy[columns_modulo] += low_scale_noise_modulo\n",
    "data_noisy[columns_fase] += low_scale_noise_fase\n",
    "# data_noisy[columns_fase] = np.mod(data_noisy[columns_fase] + np.pi, 2*np.pi) - np.pi\n",
    "\n",
    "data_noisy[columns_modulo] = np.clip(data_noisy[columns_modulo], 0, 1)\n",
    "data_noisy[columns_fase] = np.clip(data_noisy[columns_fase], -np.pi, np.pi)\n",
    "\n",
    "data_noisy['PosicionX'] = posicionX\n",
    "data_noisy['PosicionY'] = posicionY\n",
    "\n",
    "data_noisy.to_csv(\"C:/Users/javi2/Desktop/TFG - Webots/TFG/Data/Test Case 1/Ruido medio/ULA_16.csv\", index=False)\n",
    "\n"
   ]
  },
  {
   "cell_type": "code",
   "execution_count": 33,
   "metadata": {},
   "outputs": [
    {
     "name": "stderr",
     "output_type": "stream",
     "text": [
      "C:\\Users\\javi2\\AppData\\Local\\Temp\\ipykernel_9872\\1342865646.py:29: PerformanceWarning: DataFrame is highly fragmented.  This is usually the result of calling `frame.insert` many times, which has poor performance.  Consider joining all columns at once using pd.concat(axis=1) instead. To get a de-fragmented frame, use `newframe = frame.copy()`\n",
      "  data_noisy['PosicionX'] = posicionX\n",
      "C:\\Users\\javi2\\AppData\\Local\\Temp\\ipykernel_9872\\1342865646.py:30: PerformanceWarning: DataFrame is highly fragmented.  This is usually the result of calling `frame.insert` many times, which has poor performance.  Consider joining all columns at once using pd.concat(axis=1) instead. To get a de-fragmented frame, use `newframe = frame.copy()`\n",
      "  data_noisy['PosicionY'] = posicionY\n"
     ]
    }
   ],
   "source": [
    "data = df.copy()\n",
    "\n",
    "posicionX = data['PosicionX']\n",
    "posicionY = data['PosicionY']\n",
    "\n",
    "# Elimino las columnas de posición\n",
    "data = data.drop(['PosicionX', 'PosicionY'], axis=1)\n",
    "\n",
    "columns_modulo = data.columns[::2] # Columnas de los módulos\n",
    "columns_fase = data.columns[1::2] # Columnas de las fases\n",
    "\n",
    "std_devs_modulo = data[columns_modulo].std() # Desviación típica de los módulos\n",
    "std_devs_fase = data[columns_fase].std() # Desviación típica de las fases\n",
    "\n",
    "# Generar ruido con elevada escala de desviación típica al módulo\n",
    "low_scale_noise_modulo = np.random.normal(loc=0, scale=1*std_devs_modulo, size=data[columns_modulo].shape)\n",
    "\n",
    "# Generar ruido con elevada escala de la desviación típica a la fase. Tener en cuenta que la fase está definida dentro de los rangos de -pi a pi.\n",
    "low_scale_noise_fase = np.random.normal(loc=0, scale=1*std_devs_fase, size=data[columns_fase].shape)\n",
    "\n",
    "data_noisy = data.copy()\n",
    "data_noisy[columns_modulo] += low_scale_noise_modulo\n",
    "data_noisy[columns_fase] += low_scale_noise_fase\n",
    "# data_noisy[columns_fase] = np.mod(data_noisy[columns_fase] + np.pi, 2*np.pi) - np.pi\n",
    "\n",
    "data_noisy[columns_modulo] = np.clip(data_noisy[columns_modulo], 0, 1)\n",
    "data_noisy[columns_fase] = np.clip(data_noisy[columns_fase], -np.pi, np.pi)\n",
    "\n",
    "data_noisy['PosicionX'] = posicionX\n",
    "data_noisy['PosicionY'] = posicionY\n",
    "\n",
    "data_noisy.to_csv(\"C:/Users/javi2/Desktop/TFG - Webots/TFG/Data/Test Case 1/Ruido elevado/ULA_16.csv\", index=False)\n",
    "\n"
   ]
  },
  {
   "cell_type": "code",
   "execution_count": 34,
   "metadata": {},
   "outputs": [],
   "source": [
    "df = pd.read_csv(\"C:/Users/javi2/Desktop/TFG - Webots/TFG/Data/Test Case 1/No ruido/ULA_32.csv\")"
   ]
  },
  {
   "cell_type": "code",
   "execution_count": 35,
   "metadata": {},
   "outputs": [
    {
     "name": "stderr",
     "output_type": "stream",
     "text": [
      "C:\\Users\\javi2\\AppData\\Local\\Temp\\ipykernel_9872\\242234568.py:29: PerformanceWarning: DataFrame is highly fragmented.  This is usually the result of calling `frame.insert` many times, which has poor performance.  Consider joining all columns at once using pd.concat(axis=1) instead. To get a de-fragmented frame, use `newframe = frame.copy()`\n",
      "  data_noisy['PosicionX'] = posicionX\n",
      "C:\\Users\\javi2\\AppData\\Local\\Temp\\ipykernel_9872\\242234568.py:30: PerformanceWarning: DataFrame is highly fragmented.  This is usually the result of calling `frame.insert` many times, which has poor performance.  Consider joining all columns at once using pd.concat(axis=1) instead. To get a de-fragmented frame, use `newframe = frame.copy()`\n",
      "  data_noisy['PosicionY'] = posicionY\n"
     ]
    }
   ],
   "source": [
    "data = df.copy()\n",
    "\n",
    "posicionX = data['PosicionX']\n",
    "posicionY = data['PosicionY']\n",
    "\n",
    "# Elimino las columnas de posición\n",
    "data = data.drop(['PosicionX', 'PosicionY'], axis=1)\n",
    "\n",
    "columns_modulo = data.columns[::2] # Columnas de los módulos\n",
    "columns_fase = data.columns[1::2] # Columnas de las fases\n",
    "\n",
    "std_devs_modulo = data[columns_modulo].std() # Desviación típica de los módulos\n",
    "std_devs_fase = data[columns_fase].std() # Desviación típica de las fases\n",
    "\n",
    "# Generar ruido con baja escala de desviación típica al módulo\n",
    "low_scale_noise_modulo = np.random.normal(loc=0, scale=0.3*std_devs_modulo, size=data[columns_modulo].shape)\n",
    "\n",
    "# Generar ruido con baja escala de la desviación típica a la fase. Tener en cuenta que la fase está definida dentro de los rangos de -pi a pi.\n",
    "low_scale_noise_fase = np.random.normal(loc=0, scale=0.3*std_devs_fase, size=data[columns_fase].shape)\n",
    "\n",
    "data_noisy = data.copy()\n",
    "data_noisy[columns_modulo] += low_scale_noise_modulo\n",
    "data_noisy[columns_fase] += low_scale_noise_fase\n",
    "# data_noisy[columns_fase] = np.mod(data_noisy[columns_fase] + np.pi, 2*np.pi) - np.pi\n",
    "\n",
    "data_noisy[columns_modulo] = np.clip(data_noisy[columns_modulo], 0, 1)\n",
    "data_noisy[columns_fase] = np.clip(data_noisy[columns_fase], -np.pi, np.pi)\n",
    "\n",
    "data_noisy['PosicionX'] = posicionX\n",
    "data_noisy['PosicionY'] = posicionY\n",
    "\n",
    "data_noisy.to_csv(\"C:/Users/javi2/Desktop/TFG - Webots/TFG/Data/Test Case 1/Ruido bajo/ULA_32.csv\", index=False)\n",
    "\n"
   ]
  },
  {
   "cell_type": "code",
   "execution_count": 36,
   "metadata": {},
   "outputs": [
    {
     "name": "stderr",
     "output_type": "stream",
     "text": [
      "C:\\Users\\javi2\\AppData\\Local\\Temp\\ipykernel_9872\\3045099553.py:29: PerformanceWarning: DataFrame is highly fragmented.  This is usually the result of calling `frame.insert` many times, which has poor performance.  Consider joining all columns at once using pd.concat(axis=1) instead. To get a de-fragmented frame, use `newframe = frame.copy()`\n",
      "  data_noisy['PosicionX'] = posicionX\n",
      "C:\\Users\\javi2\\AppData\\Local\\Temp\\ipykernel_9872\\3045099553.py:30: PerformanceWarning: DataFrame is highly fragmented.  This is usually the result of calling `frame.insert` many times, which has poor performance.  Consider joining all columns at once using pd.concat(axis=1) instead. To get a de-fragmented frame, use `newframe = frame.copy()`\n",
      "  data_noisy['PosicionY'] = posicionY\n"
     ]
    }
   ],
   "source": [
    "data = df.copy()\n",
    "\n",
    "posicionX = data['PosicionX']\n",
    "posicionY = data['PosicionY']\n",
    "\n",
    "# Elimino las columnas de posición\n",
    "data = data.drop(['PosicionX', 'PosicionY'], axis=1)\n",
    "\n",
    "columns_modulo = data.columns[::2] # Columnas de los módulos\n",
    "columns_fase = data.columns[1::2] # Columnas de las fases\n",
    "\n",
    "std_devs_modulo = data[columns_modulo].std() # Desviación típica de los módulos\n",
    "std_devs_fase = data[columns_fase].std() # Desviación típica de las fases\n",
    "\n",
    "# Generar ruido con media escala de desviación típica al módulo\n",
    "low_scale_noise_modulo = np.random.normal(loc=0, scale=0.6*std_devs_modulo, size=data[columns_modulo].shape)\n",
    "\n",
    "# Generar ruido con media escala de la desviación típica a la fase. Tener en cuenta que la fase está definida dentro de los rangos de -pi a pi.\n",
    "low_scale_noise_fase = np.random.normal(loc=0, scale=0.6*std_devs_fase, size=data[columns_fase].shape)\n",
    "\n",
    "data_noisy = data.copy()\n",
    "data_noisy[columns_modulo] += low_scale_noise_modulo\n",
    "data_noisy[columns_fase] += low_scale_noise_fase\n",
    "# data_noisy[columns_fase] = np.mod(data_noisy[columns_fase] + np.pi, 2*np.pi) - np.pi\n",
    "\n",
    "data_noisy[columns_modulo] = np.clip(data_noisy[columns_modulo], 0, 1)\n",
    "data_noisy[columns_fase] = np.clip(data_noisy[columns_fase], -np.pi, np.pi)\n",
    "\n",
    "data_noisy['PosicionX'] = posicionX\n",
    "data_noisy['PosicionY'] = posicionY\n",
    "\n",
    "data_noisy.to_csv(\"C:/Users/javi2/Desktop/TFG - Webots/TFG/Data/Test Case 1/Ruido medio/ULA_32.csv\", index=False)\n",
    "\n"
   ]
  },
  {
   "cell_type": "code",
   "execution_count": 37,
   "metadata": {},
   "outputs": [
    {
     "name": "stderr",
     "output_type": "stream",
     "text": [
      "C:\\Users\\javi2\\AppData\\Local\\Temp\\ipykernel_9872\\2013456834.py:29: PerformanceWarning: DataFrame is highly fragmented.  This is usually the result of calling `frame.insert` many times, which has poor performance.  Consider joining all columns at once using pd.concat(axis=1) instead. To get a de-fragmented frame, use `newframe = frame.copy()`\n",
      "  data_noisy['PosicionX'] = posicionX\n",
      "C:\\Users\\javi2\\AppData\\Local\\Temp\\ipykernel_9872\\2013456834.py:30: PerformanceWarning: DataFrame is highly fragmented.  This is usually the result of calling `frame.insert` many times, which has poor performance.  Consider joining all columns at once using pd.concat(axis=1) instead. To get a de-fragmented frame, use `newframe = frame.copy()`\n",
      "  data_noisy['PosicionY'] = posicionY\n"
     ]
    }
   ],
   "source": [
    "data = df.copy()\n",
    "\n",
    "posicionX = data['PosicionX']\n",
    "posicionY = data['PosicionY']\n",
    "\n",
    "# Elimino las columnas de posición\n",
    "data = data.drop(['PosicionX', 'PosicionY'], axis=1)\n",
    "\n",
    "columns_modulo = data.columns[::2] # Columnas de los módulos\n",
    "columns_fase = data.columns[1::2] # Columnas de las fases\n",
    "\n",
    "std_devs_modulo = data[columns_modulo].std() # Desviación típica de los módulos\n",
    "std_devs_fase = data[columns_fase].std() # Desviación típica de las fases\n",
    "\n",
    "# Generar ruido con elevada escala de desviación típica al módulo\n",
    "low_scale_noise_modulo = np.random.normal(loc=0, scale=1*std_devs_modulo, size=data[columns_modulo].shape)\n",
    "\n",
    "# Generar ruido con elevada escala de la desviación típica a la fase. Tener en cuenta que la fase está definida dentro de los rangos de -pi a pi.\n",
    "low_scale_noise_fase = np.random.normal(loc=0, scale=1*std_devs_fase, size=data[columns_fase].shape)\n",
    "\n",
    "data_noisy = data.copy()\n",
    "data_noisy[columns_modulo] += low_scale_noise_modulo\n",
    "data_noisy[columns_fase] += low_scale_noise_fase\n",
    "# data_noisy[columns_fase] = np.mod(data_noisy[columns_fase] + np.pi, 2*np.pi) - np.pi\n",
    "\n",
    "data_noisy[columns_modulo] = np.clip(data_noisy[columns_modulo], 0, 1)\n",
    "data_noisy[columns_fase] = np.clip(data_noisy[columns_fase], -np.pi, np.pi)\n",
    "\n",
    "data_noisy['PosicionX'] = posicionX\n",
    "data_noisy['PosicionY'] = posicionY\n",
    "\n",
    "data_noisy.to_csv(\"C:/Users/javi2/Desktop/TFG - Webots/TFG/Data/Test Case 1/Ruido elevado/ULA_32.csv\", index=False)\n",
    "\n"
   ]
  },
  {
   "cell_type": "code",
   "execution_count": 42,
   "metadata": {},
   "outputs": [],
   "source": [
    "df = pd.read_csv(\"C:/Users/javi2/Desktop/TFG - Webots/TFG/Data/Test Case 1/No ruido/ULA_64 copy.csv\")"
   ]
  },
  {
   "cell_type": "code",
   "execution_count": 43,
   "metadata": {},
   "outputs": [
    {
     "name": "stderr",
     "output_type": "stream",
     "text": [
      "C:\\Users\\javi2\\AppData\\Local\\Temp\\ipykernel_9872\\1545883859.py:29: PerformanceWarning: DataFrame is highly fragmented.  This is usually the result of calling `frame.insert` many times, which has poor performance.  Consider joining all columns at once using pd.concat(axis=1) instead. To get a de-fragmented frame, use `newframe = frame.copy()`\n",
      "  data_noisy['PosicionX'] = posicionX\n",
      "C:\\Users\\javi2\\AppData\\Local\\Temp\\ipykernel_9872\\1545883859.py:30: PerformanceWarning: DataFrame is highly fragmented.  This is usually the result of calling `frame.insert` many times, which has poor performance.  Consider joining all columns at once using pd.concat(axis=1) instead. To get a de-fragmented frame, use `newframe = frame.copy()`\n",
      "  data_noisy['PosicionY'] = posicionY\n"
     ]
    }
   ],
   "source": [
    "data = df.copy()\n",
    "\n",
    "posicionX = data['PosicionX']\n",
    "posicionY = data['PosicionY']\n",
    "\n",
    "# Elimino las columnas de posición\n",
    "data = data.drop(['PosicionX', 'PosicionY'], axis=1)\n",
    "\n",
    "columns_modulo = data.columns[::2] # Columnas de los módulos\n",
    "columns_fase = data.columns[1::2] # Columnas de las fases\n",
    "\n",
    "std_devs_modulo = data[columns_modulo].std() # Desviación típica de los módulos\n",
    "std_devs_fase = data[columns_fase].std() # Desviación típica de las fases\n",
    "\n",
    "# Generar ruido con baja escala de desviación típica al módulo\n",
    "low_scale_noise_modulo = np.random.normal(loc=0, scale=0.3*std_devs_modulo, size=data[columns_modulo].shape)\n",
    "\n",
    "# Generar ruido con baja escala de la desviación típica a la fase. Tener en cuenta que la fase está definida dentro de los rangos de -pi a pi.\n",
    "low_scale_noise_fase = np.random.normal(loc=0, scale=0.3*std_devs_fase, size=data[columns_fase].shape)\n",
    "\n",
    "data_noisy = data.copy()\n",
    "data_noisy[columns_modulo] += low_scale_noise_modulo\n",
    "data_noisy[columns_fase] += low_scale_noise_fase\n",
    "# data_noisy[columns_fase] = np.mod(data_noisy[columns_fase] + np.pi, 2*np.pi) - np.pi\n",
    "\n",
    "data_noisy[columns_modulo] = np.clip(data_noisy[columns_modulo], 0, 1)\n",
    "data_noisy[columns_fase] = np.clip(data_noisy[columns_fase], -np.pi, np.pi)\n",
    "\n",
    "data_noisy['PosicionX'] = posicionX\n",
    "data_noisy['PosicionY'] = posicionY\n",
    "\n",
    "data_noisy.to_csv(\"C:/Users/javi2/Desktop/TFG - Webots/TFG/Data/Test Case 1/Ruido bajo/ULA_64.csv\", index=False)\n",
    "\n"
   ]
  },
  {
   "cell_type": "code",
   "execution_count": 44,
   "metadata": {},
   "outputs": [
    {
     "name": "stderr",
     "output_type": "stream",
     "text": [
      "C:\\Users\\javi2\\AppData\\Local\\Temp\\ipykernel_9872\\675789800.py:29: PerformanceWarning: DataFrame is highly fragmented.  This is usually the result of calling `frame.insert` many times, which has poor performance.  Consider joining all columns at once using pd.concat(axis=1) instead. To get a de-fragmented frame, use `newframe = frame.copy()`\n",
      "  data_noisy['PosicionX'] = posicionX\n",
      "C:\\Users\\javi2\\AppData\\Local\\Temp\\ipykernel_9872\\675789800.py:30: PerformanceWarning: DataFrame is highly fragmented.  This is usually the result of calling `frame.insert` many times, which has poor performance.  Consider joining all columns at once using pd.concat(axis=1) instead. To get a de-fragmented frame, use `newframe = frame.copy()`\n",
      "  data_noisy['PosicionY'] = posicionY\n"
     ]
    }
   ],
   "source": [
    "data = df.copy()\n",
    "\n",
    "posicionX = data['PosicionX']\n",
    "posicionY = data['PosicionY']\n",
    "\n",
    "# Elimino las columnas de posición\n",
    "data = data.drop(['PosicionX', 'PosicionY'], axis=1)\n",
    "\n",
    "columns_modulo = data.columns[::2] # Columnas de los módulos\n",
    "columns_fase = data.columns[1::2] # Columnas de las fases\n",
    "\n",
    "std_devs_modulo = data[columns_modulo].std() # Desviación típica de los módulos\n",
    "std_devs_fase = data[columns_fase].std() # Desviación típica de las fases\n",
    "\n",
    "# Generar ruido con media escala de desviación típica al módulo\n",
    "low_scale_noise_modulo = np.random.normal(loc=0, scale=0.6*std_devs_modulo, size=data[columns_modulo].shape)\n",
    "\n",
    "# Generar ruido con media escala de la desviación típica a la fase. Tener en cuenta que la fase está definida dentro de los rangos de -pi a pi.\n",
    "low_scale_noise_fase = np.random.normal(loc=0, scale=0.6*std_devs_fase, size=data[columns_fase].shape)\n",
    "\n",
    "data_noisy = data.copy()\n",
    "data_noisy[columns_modulo] += low_scale_noise_modulo\n",
    "data_noisy[columns_fase] += low_scale_noise_fase\n",
    "# data_noisy[columns_fase] = np.mod(data_noisy[columns_fase] + np.pi, 2*np.pi) - np.pi\n",
    "\n",
    "data_noisy[columns_modulo] = np.clip(data_noisy[columns_modulo], 0, 1)\n",
    "data_noisy[columns_fase] = np.clip(data_noisy[columns_fase], -np.pi, np.pi)\n",
    "\n",
    "data_noisy['PosicionX'] = posicionX\n",
    "data_noisy['PosicionY'] = posicionY\n",
    "\n",
    "data_noisy.to_csv(\"C:/Users/javi2/Desktop/TFG - Webots/TFG/Data/Test Case 1/Ruido medio/ULA_64.csv\", index=False)\n",
    "\n"
   ]
  },
  {
   "cell_type": "code",
   "execution_count": 45,
   "metadata": {},
   "outputs": [
    {
     "name": "stderr",
     "output_type": "stream",
     "text": [
      "C:\\Users\\javi2\\AppData\\Local\\Temp\\ipykernel_9872\\411383051.py:29: PerformanceWarning: DataFrame is highly fragmented.  This is usually the result of calling `frame.insert` many times, which has poor performance.  Consider joining all columns at once using pd.concat(axis=1) instead. To get a de-fragmented frame, use `newframe = frame.copy()`\n",
      "  data_noisy['PosicionX'] = posicionX\n",
      "C:\\Users\\javi2\\AppData\\Local\\Temp\\ipykernel_9872\\411383051.py:30: PerformanceWarning: DataFrame is highly fragmented.  This is usually the result of calling `frame.insert` many times, which has poor performance.  Consider joining all columns at once using pd.concat(axis=1) instead. To get a de-fragmented frame, use `newframe = frame.copy()`\n",
      "  data_noisy['PosicionY'] = posicionY\n"
     ]
    }
   ],
   "source": [
    "data = df.copy()\n",
    "\n",
    "posicionX = data['PosicionX']\n",
    "posicionY = data['PosicionY']\n",
    "\n",
    "# Elimino las columnas de posición\n",
    "data = data.drop(['PosicionX', 'PosicionY'], axis=1)\n",
    "\n",
    "columns_modulo = data.columns[::2] # Columnas de los módulos\n",
    "columns_fase = data.columns[1::2] # Columnas de las fases\n",
    "\n",
    "std_devs_modulo = data[columns_modulo].std() # Desviación típica de los módulos\n",
    "std_devs_fase = data[columns_fase].std() # Desviación típica de las fases\n",
    "\n",
    "# Generar ruido con elevada escala de desviación típica al módulo\n",
    "low_scale_noise_modulo = np.random.normal(loc=0, scale=1*std_devs_modulo, size=data[columns_modulo].shape)\n",
    "\n",
    "# Generar ruido con elevada escala de la desviación típica a la fase. Tener en cuenta que la fase está definida dentro de los rangos de -pi a pi.\n",
    "low_scale_noise_fase = np.random.normal(loc=0, scale=1*std_devs_fase, size=data[columns_fase].shape)\n",
    "\n",
    "data_noisy = data.copy()\n",
    "data_noisy[columns_modulo] += low_scale_noise_modulo\n",
    "data_noisy[columns_fase] += low_scale_noise_fase\n",
    "# data_noisy[columns_fase] = np.mod(data_noisy[columns_fase] + np.pi, 2*np.pi) - np.pi\n",
    "\n",
    "data_noisy[columns_modulo] = np.clip(data_noisy[columns_modulo], 0, 1)\n",
    "data_noisy[columns_fase] = np.clip(data_noisy[columns_fase], -np.pi, np.pi)\n",
    "\n",
    "data_noisy['PosicionX'] = posicionX\n",
    "data_noisy['PosicionY'] = posicionY\n",
    "\n",
    "data_noisy.to_csv(\"C:/Users/javi2/Desktop/TFG - Webots/TFG/Data/Test Case 1/Ruido elevado/ULA_64.csv\", index=False)\n",
    "\n"
   ]
  }
 ],
 "metadata": {
  "kernelspec": {
   "display_name": "Python 3",
   "language": "python",
   "name": "python3"
  },
  "language_info": {
   "codemirror_mode": {
    "name": "ipython",
    "version": 3
   },
   "file_extension": ".py",
   "mimetype": "text/x-python",
   "name": "python",
   "nbconvert_exporter": "python",
   "pygments_lexer": "ipython3",
   "version": "3.11.9"
  }
 },
 "nbformat": 4,
 "nbformat_minor": 2
}
