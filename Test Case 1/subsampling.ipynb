{
 "cells": [
  {
   "cell_type": "code",
   "execution_count": 25,
   "metadata": {},
   "outputs": [],
   "source": [
    "import pandas as pd"
   ]
  },
  {
   "cell_type": "code",
   "execution_count": 26,
   "metadata": {},
   "outputs": [],
   "source": [
    "def subsample_dataframe(df, keep_indices, block_size):\n",
    "\n",
    "    mask = []\n",
    "    for i in range(len(df)):\n",
    "        if i % block_size in keep_indices:\n",
    "            mask.append(True)\n",
    "        else:\n",
    "            mask.append(False)\n",
    "\n",
    "\n",
    "    subsampled_df = df[mask].reset_index(drop=True)\n",
    "    return subsampled_df\n",
    "\n",
    "# data_8 = pd.read_csv(\"C:/Users/javi2/Desktop/TFG - Webots/TFG/Data/Test Case 1/No ruido/ULA_8.csv\")\n",
    "# data_16 = pd.read_csv(\"C:/Users/javi2/Desktop/TFG - Webots/TFG/Data/Test Case 1/No ruido/ULA_16.csv\")\n",
    "# data_32 = pd.read_csv(\"C:/Users/javi2/Desktop/TFG - Webots/TFG/Data/Test Case 1/No ruido/ULA_32.csv\")\n",
    "data_64 = pd.read_csv(\"C:/Users/javi2/Desktop/TFG - Webots/TFG/Data/Test Case 1/No ruido/ULA_64.csv\")\n",
    "\n",
    "# data_8 = subsample_dataframe(data_8, keep_indices=[0, 2, 5, 7, 10], block_size=12)  # ULA 8\n",
    "# data_16 = subsample_dataframe(data_16, keep_indices=[0], block_size=3)  # ULA 16\n",
    "# data_32 = subsample_dataframe(data_32, keep_indices=[0], block_size=3)  # ULA 32\n",
    "data_64 = subsample_dataframe(data_64, keep_indices=[0], block_size=4)  # ULA 64\n",
    "\n",
    "# data_8.to_csv(\"C:/Users/javi2/Desktop/TFG - Webots/TFG/Data/Test Case 1/No ruido/ULA_8.csv\", index=False)\n",
    "# data_16.to_csv(\"C:/Users/javi2/Desktop/TFG - Webots/TFG/Data/Test Case 1/No ruido/ULA_16.csv\", index=False)\n",
    "# data_32.to_csv(\"C:/Users/javi2/Desktop/TFG - Webots/TFG/Data/Test Case 1/No ruido/ULA_32.csv\", index=False)\n",
    "data_64.to_csv(\"C:/Users/javi2/Desktop/TFG - Webots/TFG/Data/Test Case 1/No ruido/ULA_64.csv\", index=False)"
   ]
  },
  {
   "cell_type": "code",
   "execution_count": 27,
   "metadata": {},
   "outputs": [
    {
     "name": "stdout",
     "output_type": "stream",
     "text": [
      "(70, 12802)\n"
     ]
    }
   ],
   "source": [
    "import pandas as pd\n",
    "df = pd.read_csv(\"C:/Users/javi2/Desktop/TFG - Webots/TFG/Data/Test Case 1/No ruido/ULA_64.csv\")\n",
    "print(df.shape)"
   ]
  }
 ],
 "metadata": {
  "kernelspec": {
   "display_name": "Python 3",
   "language": "python",
   "name": "python3"
  },
  "language_info": {
   "codemirror_mode": {
    "name": "ipython",
    "version": 3
   },
   "file_extension": ".py",
   "mimetype": "text/x-python",
   "name": "python",
   "nbconvert_exporter": "python",
   "pygments_lexer": "ipython3",
   "version": "3.11.9"
  }
 },
 "nbformat": 4,
 "nbformat_minor": 2
}
