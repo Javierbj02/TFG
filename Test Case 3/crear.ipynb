{
 "cells": [
  {
   "cell_type": "code",
   "execution_count": 1,
   "metadata": {},
   "outputs": [],
   "source": [
    "import pandas as pd\n",
    "import numpy as np"
   ]
  },
  {
   "cell_type": "code",
   "execution_count": 2,
   "metadata": {},
   "outputs": [],
   "source": [
    "df = pd.read_csv(\"C:/Users/javi2/Desktop/TFG - Webots/TFG/Data/ULA/ULA_8.csv\")"
   ]
  },
  {
   "cell_type": "code",
   "execution_count": 3,
   "metadata": {},
   "outputs": [
    {
     "name": "stdout",
     "output_type": "stream",
     "text": [
      "(466, 2)\n"
     ]
    }
   ],
   "source": [
    "df_ruta = pd.read_csv(\"C:/Users/javi2/Desktop/TFG - Webots/TFG/Test Case 3/Results/posiciones_ruta.csv\")\n",
    "print(df_ruta.shape)"
   ]
  },
  {
   "cell_type": "code",
   "execution_count": 4,
   "metadata": {},
   "outputs": [],
   "source": [
    "rango = 5 # radio de la circunferencia\n",
    "min_posiciones = 9\n",
    "nuevos_datos = []\n",
    "\n",
    "for _, row in df_ruta.iterrows():\n",
    "    while True:\n",
    "        x, y = row[\"RoundedX\"], row[\"RoundedY\"]\n",
    "\n",
    "        x_min = x - rango\n",
    "        x_max = x + rango\n",
    "        y_min = y - rango\n",
    "        y_max = y + rango\n",
    "\n",
    "        \n",
    "        posiciones_vecinas = df.loc[(df[\"PosicionX\"] >= x_min) & (df[\"PosicionX\"] <= x_max) & (df[\"PosicionY\"] >= y_min) & (df[\"PosicionY\"] <= y_max)]\n",
    "        # print(posiciones_vecinas.shape)\n",
    "        \n",
    "        if len(posiciones_vecinas) >= min_posiciones:\n",
    "            break\n",
    "\n",
    "        rango +=5\n",
    "\n",
    "    posiciones_vecinas_datos = posiciones_vecinas.drop([\"PosicionX\", \"PosicionY\"], axis=1)\n",
    "    media = posiciones_vecinas_datos.mean()\n",
    "    media = pd.DataFrame(media).T\n",
    "\n",
    "    media['PosicionX'] = x\n",
    "    media['PosicionY'] = y\n",
    "\n",
    "    nuevos_datos.append(media)\n",
    "\n",
    "\n",
    "nuevo_df = pd.concat(nuevos_datos, ignore_index=True)\n",
    "\n",
    "nuevo_df.to_csv(\"C:/Users/javi2/Desktop/TFG - Webots/TFG/Data/Test Case 3/No ruido/ULA_8.csv\", index=False)"
   ]
  },
  {
   "cell_type": "code",
   "execution_count": 5,
   "metadata": {},
   "outputs": [],
   "source": [
    "df = pd.read_csv(\"C:/Users/javi2/Desktop/TFG - Webots/TFG/Data/ULA/ULA_16.csv\")"
   ]
  },
  {
   "cell_type": "code",
   "execution_count": 6,
   "metadata": {},
   "outputs": [
    {
     "name": "stdout",
     "output_type": "stream",
     "text": [
      "(466, 2)\n"
     ]
    }
   ],
   "source": [
    "df_ruta = pd.read_csv(\"C:/Users/javi2/Desktop/TFG - Webots/TFG/Test Case 3/Results/posiciones_ruta.csv\")\n",
    "print(df_ruta.shape)"
   ]
  },
  {
   "cell_type": "code",
   "execution_count": 7,
   "metadata": {},
   "outputs": [],
   "source": [
    "rango = 5 # radio de la circunferencia\n",
    "min_posiciones = 9\n",
    "nuevos_datos = []\n",
    "\n",
    "for _, row in df_ruta.iterrows():\n",
    "    while True:\n",
    "        x, y = row[\"RoundedX\"], row[\"RoundedY\"]\n",
    "\n",
    "        x_min = x - rango\n",
    "        x_max = x + rango\n",
    "        y_min = y - rango\n",
    "        y_max = y + rango\n",
    "\n",
    "        \n",
    "        posiciones_vecinas = df.loc[(df[\"PosicionX\"] >= x_min) & (df[\"PosicionX\"] <= x_max) & (df[\"PosicionY\"] >= y_min) & (df[\"PosicionY\"] <= y_max)]\n",
    "        \n",
    "        if len(posiciones_vecinas) >= min_posiciones:\n",
    "            break\n",
    "\n",
    "        rango +=5\n",
    "\n",
    "    posiciones_vecinas_datos = posiciones_vecinas.drop([\"PosicionX\", \"PosicionY\"], axis=1)\n",
    "    media = posiciones_vecinas_datos.mean()\n",
    "    media = pd.DataFrame(media).T\n",
    "\n",
    "    media['PosicionX'] = x\n",
    "    media['PosicionY'] = y\n",
    "\n",
    "    nuevos_datos.append(media)\n",
    "\n",
    "\n",
    "nuevo_df = pd.concat(nuevos_datos, ignore_index=True)\n",
    "\n",
    "nuevo_df.to_csv(\"C:/Users/javi2/Desktop/TFG - Webots/TFG/Data/Test Case 3/No ruido/ULA_16.csv\", index=False)"
   ]
  },
  {
   "cell_type": "code",
   "execution_count": 8,
   "metadata": {},
   "outputs": [],
   "source": [
    "df = pd.read_csv(\"C:/Users/javi2/Desktop/TFG - Webots/TFG/Data/ULA/ULA_32.csv\")"
   ]
  },
  {
   "cell_type": "code",
   "execution_count": 9,
   "metadata": {},
   "outputs": [
    {
     "name": "stdout",
     "output_type": "stream",
     "text": [
      "(466, 2)\n"
     ]
    }
   ],
   "source": [
    "df_ruta = pd.read_csv(\"C:/Users/javi2/Desktop/TFG - Webots/TFG/Test Case 3/Results/posiciones_ruta.csv\")\n",
    "print(df_ruta.shape)"
   ]
  },
  {
   "cell_type": "code",
   "execution_count": 10,
   "metadata": {},
   "outputs": [],
   "source": [
    "rango = 5 # radio de la circunferencia\n",
    "min_posiciones = 9\n",
    "nuevos_datos = []\n",
    "\n",
    "for _, row in df_ruta.iterrows():\n",
    "    while True:\n",
    "        x, y = row[\"RoundedX\"], row[\"RoundedY\"]\n",
    "\n",
    "        x_min = x - rango\n",
    "        x_max = x + rango\n",
    "        y_min = y - rango\n",
    "        y_max = y + rango\n",
    "\n",
    "        \n",
    "        posiciones_vecinas = df.loc[(df[\"PosicionX\"] >= x_min) & (df[\"PosicionX\"] <= x_max) & (df[\"PosicionY\"] >= y_min) & (df[\"PosicionY\"] <= y_max)]\n",
    "        \n",
    "        if len(posiciones_vecinas) >= min_posiciones:\n",
    "            break\n",
    "\n",
    "        rango +=5\n",
    "\n",
    "    posiciones_vecinas_datos = posiciones_vecinas.drop([\"PosicionX\", \"PosicionY\"], axis=1)\n",
    "    media = posiciones_vecinas_datos.mean()\n",
    "    media = pd.DataFrame(media).T\n",
    "\n",
    "    media['PosicionX'] = x\n",
    "    media['PosicionY'] = y\n",
    "\n",
    "    nuevos_datos.append(media)\n",
    "\n",
    "\n",
    "nuevo_df = pd.concat(nuevos_datos, ignore_index=True)\n",
    "\n",
    "nuevo_df.to_csv(\"C:/Users/javi2/Desktop/TFG - Webots/TFG/Data/Test Case 3/No ruido/ULA_32.csv\", index=False)"
   ]
  },
  {
   "cell_type": "code",
   "execution_count": 11,
   "metadata": {},
   "outputs": [],
   "source": [
    "df = pd.read_csv(\"C:/Users/javi2/Desktop/TFG - Webots/TFG/Data/ULA/ULA_64.csv\")"
   ]
  },
  {
   "cell_type": "code",
   "execution_count": 16,
   "metadata": {},
   "outputs": [
    {
     "name": "stdout",
     "output_type": "stream",
     "text": [
      "(466, 2)\n"
     ]
    }
   ],
   "source": [
    "df_ruta = pd.read_csv(\"C:/Users/javi2/Desktop/TFG - Webots/TFG/Test Case 3/Results/posiciones_ruta.csv\")\n",
    "print(df_ruta.shape)"
   ]
  },
  {
   "cell_type": "code",
   "execution_count": 17,
   "metadata": {},
   "outputs": [],
   "source": [
    "rango = 5 # radio de la circunferencia\n",
    "min_posiciones = 9\n",
    "nuevos_datos = []\n",
    "\n",
    "for _, row in df_ruta.iterrows():\n",
    "    while True:\n",
    "        x, y = row[\"RoundedX\"], row[\"RoundedY\"]\n",
    "\n",
    "        x_min = x - rango\n",
    "        x_max = x + rango\n",
    "        y_min = y - rango\n",
    "        y_max = y + rango\n",
    "\n",
    "        \n",
    "        posiciones_vecinas = df.loc[(df[\"PosicionX\"] >= x_min) & (df[\"PosicionX\"] <= x_max) & (df[\"PosicionY\"] >= y_min) & (df[\"PosicionY\"] <= y_max)]\n",
    "        \n",
    "        if len(posiciones_vecinas) >= min_posiciones:\n",
    "            break\n",
    "\n",
    "        rango +=5\n",
    "\n",
    "    posiciones_vecinas_datos = posiciones_vecinas.drop([\"PosicionX\", \"PosicionY\"], axis=1)\n",
    "    media = posiciones_vecinas_datos.mean()\n",
    "    media = pd.DataFrame(media).T\n",
    "\n",
    "    media['PosicionX'] = x\n",
    "    media['PosicionY'] = y\n",
    "\n",
    "    nuevos_datos.append(media)\n",
    "\n",
    "\n",
    "nuevo_df = pd.concat(nuevos_datos, ignore_index=True)\n",
    "\n",
    "nuevo_df.to_csv(\"C:/Users/javi2/Desktop/TFG - Webots/TFG/Data/Test Case 3/No ruido/ULA_64.csv\", index=False)"
   ]
  }
 ],
 "metadata": {
  "kernelspec": {
   "display_name": "Python 3",
   "language": "python",
   "name": "python3"
  },
  "language_info": {
   "codemirror_mode": {
    "name": "ipython",
    "version": 3
   },
   "file_extension": ".py",
   "mimetype": "text/x-python",
   "name": "python",
   "nbconvert_exporter": "python",
   "pygments_lexer": "ipython3",
   "version": "3.11.9"
  }
 },
 "nbformat": 4,
 "nbformat_minor": 2
}
