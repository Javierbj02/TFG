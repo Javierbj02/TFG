{
 "cells": [
  {
   "cell_type": "code",
   "execution_count": 25,
   "metadata": {},
   "outputs": [],
   "source": [
    "import pandas as pd\n",
    "import numpy as np"
   ]
  },
  {
   "cell_type": "code",
   "execution_count": 26,
   "metadata": {},
   "outputs": [],
   "source": [
    "df = pd.read_csv(\"C:/Users/javi2/Desktop/TFG - Webots/TFG/Data/ULA/ULA_8.csv\")"
   ]
  },
  {
   "cell_type": "code",
   "execution_count": 29,
   "metadata": {},
   "outputs": [
    {
     "name": "stdout",
     "output_type": "stream",
     "text": [
      "(274, 2)\n"
     ]
    }
   ],
   "source": [
    "df_ruta = pd.read_csv(\"C:/Users/javi2/Desktop/TFG - Webots/TFG/Test Case 3/Results/posiciones_ruta.csv\")\n",
    "print(df_ruta.shape)"
   ]
  },
  {
   "cell_type": "code",
   "execution_count": 30,
   "metadata": {},
   "outputs": [
    {
     "name": "stdout",
     "output_type": "stream",
     "text": [
      "(219, 1602)\n"
     ]
    }
   ],
   "source": [
    "rango = 5 # radio de la circunferencia\n",
    "nuevos_datos = []\n",
    "\n",
    "for _, row in df_ruta.iterrows():\n",
    "    x, y = row[\"RoundedX\"], row[\"RoundedY\"]\n",
    "\n",
    "    x_min = x - rango\n",
    "    x_max = x + rango\n",
    "    y_min = y - rango\n",
    "    y_max = y + rango\n",
    "\n",
    "    posiciones_vecinas = df.loc[(df[\"PosicionX\"] >= x_min) & (df[\"PosicionX\"] <= x_max) & (df[\"PosicionY\"] >= y_min) & (df[\"PosicionY\"] <= y_max)]\n",
    "    \n",
    "    if not posiciones_vecinas.empty:\n",
    "        posiciones_vecinas = posiciones_vecinas.drop_duplicates(subset=[\"PosicionX\", \"PosicionY\"], keep=\"first\")\n",
    "        posiciones_vecinas_datos = posiciones_vecinas.drop([\"PosicionX\", \"PosicionY\"], axis=1)\n",
    "        media = posiciones_vecinas_datos.mean()\n",
    "        media = pd.DataFrame(media).T\n",
    "\n",
    "        media['PosicionX'] = x\n",
    "        media['PosicionY'] = y\n",
    "\n",
    "        nuevos_datos.append(media)\n",
    "\n",
    "\n",
    "nuevo_df = pd.DataFrame()\n",
    "for i in range(len(nuevos_datos)):\n",
    "    nuevo_df = pd.concat([nuevo_df, nuevos_datos[i]])\n",
    "print(nuevo_df.shape)\n",
    "nuevo_df.to_csv(\"C:/Users/javi2/Desktop/TFG - Webots/TFG/Data/Test Case 3/No ruido/ULA_8.csv\", index=False)"
   ]
  },
  {
   "cell_type": "code",
   "execution_count": 31,
   "metadata": {},
   "outputs": [],
   "source": [
    "df = pd.read_csv(\"C:/Users/javi2/Desktop/TFG - Webots/TFG/Data/ULA/ULA_16.csv\")"
   ]
  },
  {
   "cell_type": "code",
   "execution_count": 32,
   "metadata": {},
   "outputs": [
    {
     "name": "stdout",
     "output_type": "stream",
     "text": [
      "(274, 2)\n"
     ]
    }
   ],
   "source": [
    "df_ruta = pd.read_csv(\"C:/Users/javi2/Desktop/TFG - Webots/TFG/Test Case 3/Results/posiciones_ruta.csv\")\n",
    "print(df_ruta.shape)"
   ]
  },
  {
   "cell_type": "code",
   "execution_count": 33,
   "metadata": {},
   "outputs": [
    {
     "name": "stdout",
     "output_type": "stream",
     "text": [
      "(219, 3202)\n"
     ]
    }
   ],
   "source": [
    "rango = 5 # radio de la circunferencia\n",
    "nuevos_datos = []\n",
    "\n",
    "for _, row in df_ruta.iterrows():\n",
    "    x, y = row[\"RoundedX\"], row[\"RoundedY\"]\n",
    "\n",
    "    x_min = x - rango\n",
    "    x_max = x + rango\n",
    "    y_min = y - rango\n",
    "    y_max = y + rango\n",
    "\n",
    "    posiciones_vecinas = df.loc[(df[\"PosicionX\"] >= x_min) & (df[\"PosicionX\"] <= x_max) & (df[\"PosicionY\"] >= y_min) & (df[\"PosicionY\"] <= y_max)]\n",
    "    \n",
    "    if not posiciones_vecinas.empty:\n",
    "        posiciones_vecinas = posiciones_vecinas.drop_duplicates(subset=[\"PosicionX\", \"PosicionY\"], keep=\"first\")\n",
    "        posiciones_vecinas_datos = posiciones_vecinas.drop([\"PosicionX\", \"PosicionY\"], axis=1)\n",
    "        media = posiciones_vecinas_datos.mean()\n",
    "        media = pd.DataFrame(media).T\n",
    "\n",
    "        media['PosicionX'] = x\n",
    "        media['PosicionY'] = y\n",
    "\n",
    "        nuevos_datos.append(media)\n",
    "\n",
    "\n",
    "nuevo_df = pd.DataFrame()\n",
    "for i in range(len(nuevos_datos)):\n",
    "    nuevo_df = pd.concat([nuevo_df, nuevos_datos[i]])\n",
    "print(nuevo_df.shape)\n",
    "nuevo_df.to_csv(\"C:/Users/javi2/Desktop/TFG - Webots/TFG/Data/Test Case 3/No ruido/ULA_16.csv\", index=False)"
   ]
  },
  {
   "cell_type": "code",
   "execution_count": 34,
   "metadata": {},
   "outputs": [],
   "source": [
    "df = pd.read_csv(\"C:/Users/javi2/Desktop/TFG - Webots/TFG/Data/ULA/ULA_32.csv\")"
   ]
  },
  {
   "cell_type": "code",
   "execution_count": 35,
   "metadata": {},
   "outputs": [
    {
     "name": "stdout",
     "output_type": "stream",
     "text": [
      "(274, 2)\n"
     ]
    }
   ],
   "source": [
    "df_ruta = pd.read_csv(\"C:/Users/javi2/Desktop/TFG - Webots/TFG/Test Case 3/Results/posiciones_ruta.csv\")\n",
    "print(df_ruta.shape)"
   ]
  },
  {
   "cell_type": "code",
   "execution_count": 36,
   "metadata": {},
   "outputs": [
    {
     "name": "stdout",
     "output_type": "stream",
     "text": [
      "(219, 6402)\n"
     ]
    }
   ],
   "source": [
    "rango = 5 # radio de la circunferencia\n",
    "nuevos_datos = []\n",
    "\n",
    "for _, row in df_ruta.iterrows():\n",
    "    x, y = row[\"RoundedX\"], row[\"RoundedY\"]\n",
    "\n",
    "    x_min = x - rango\n",
    "    x_max = x + rango\n",
    "    y_min = y - rango\n",
    "    y_max = y + rango\n",
    "\n",
    "    posiciones_vecinas = df.loc[(df[\"PosicionX\"] >= x_min) & (df[\"PosicionX\"] <= x_max) & (df[\"PosicionY\"] >= y_min) & (df[\"PosicionY\"] <= y_max)]\n",
    "    \n",
    "    if not posiciones_vecinas.empty:\n",
    "        posiciones_vecinas = posiciones_vecinas.drop_duplicates(subset=[\"PosicionX\", \"PosicionY\"], keep=\"first\")\n",
    "        posiciones_vecinas_datos = posiciones_vecinas.drop([\"PosicionX\", \"PosicionY\"], axis=1)\n",
    "        media = posiciones_vecinas_datos.mean()\n",
    "        media = pd.DataFrame(media).T\n",
    "\n",
    "        media['PosicionX'] = x\n",
    "        media['PosicionY'] = y\n",
    "\n",
    "        nuevos_datos.append(media)\n",
    "\n",
    "nuevo_df = pd.DataFrame()\n",
    "for i in range(len(nuevos_datos)):\n",
    "    nuevo_df = pd.concat([nuevo_df, nuevos_datos[i]])\n",
    "print(nuevo_df.shape)\n",
    "nuevo_df.to_csv(\"C:/Users/javi2/Desktop/TFG - Webots/TFG/Data/Test Case 3/No ruido/ULA_32.csv\", index=False)"
   ]
  },
  {
   "cell_type": "code",
   "execution_count": 37,
   "metadata": {},
   "outputs": [],
   "source": [
    "df = pd.read_csv(\"C:/Users/javi2/Desktop/TFG - Webots/TFG/Data/ULA/ULA_64.csv\")"
   ]
  },
  {
   "cell_type": "code",
   "execution_count": 38,
   "metadata": {},
   "outputs": [
    {
     "name": "stdout",
     "output_type": "stream",
     "text": [
      "(274, 2)\n"
     ]
    }
   ],
   "source": [
    "df_ruta = pd.read_csv(\"C:/Users/javi2/Desktop/TFG - Webots/TFG/Test Case 3/Results/posiciones_ruta.csv\")\n",
    "print(df_ruta.shape)"
   ]
  },
  {
   "cell_type": "code",
   "execution_count": 39,
   "metadata": {},
   "outputs": [
    {
     "name": "stdout",
     "output_type": "stream",
     "text": [
      "(219, 12802)\n"
     ]
    }
   ],
   "source": [
    "rango = 5 # radio de la circunferencia\n",
    "nuevos_datos = []\n",
    "\n",
    "for _, row in df_ruta.iterrows():\n",
    "    x, y = row[\"RoundedX\"], row[\"RoundedY\"]\n",
    "\n",
    "    x_min = x - rango\n",
    "    x_max = x + rango\n",
    "    y_min = y - rango\n",
    "    y_max = y + rango\n",
    "\n",
    "    posiciones_vecinas = df.loc[(df[\"PosicionX\"] >= x_min) & (df[\"PosicionX\"] <= x_max) & (df[\"PosicionY\"] >= y_min) & (df[\"PosicionY\"] <= y_max)]\n",
    "    \n",
    "    if not posiciones_vecinas.empty:\n",
    "        posiciones_vecinas = posiciones_vecinas.drop_duplicates(subset=[\"PosicionX\", \"PosicionY\"], keep=\"first\")\n",
    "        posiciones_vecinas_datos = posiciones_vecinas.drop([\"PosicionX\", \"PosicionY\"], axis=1)\n",
    "        media = posiciones_vecinas_datos.mean()\n",
    "        media = pd.DataFrame(media).T\n",
    "\n",
    "        media['PosicionX'] = x\n",
    "        media['PosicionY'] = y\n",
    "\n",
    "        nuevos_datos.append(media)\n",
    "\n",
    "\n",
    "nuevo_df = pd.DataFrame()\n",
    "for i in range(len(nuevos_datos)):\n",
    "    nuevo_df = pd.concat([nuevo_df, nuevos_datos[i]])\n",
    "print(nuevo_df.shape)\n",
    "nuevo_df.to_csv(\"C:/Users/javi2/Desktop/TFG - Webots/TFG/Data/Test Case 3/No ruido/ULA_64.csv\", index=False)"
   ]
  },
  {
   "cell_type": "code",
   "execution_count": 40,
   "metadata": {},
   "outputs": [],
   "source": [
    "df = pd.read_csv(\"C:/Users/javi2/Desktop/TFG - Webots/TFG/Data/Test Case 3/No ruido/prueba.csv\")"
   ]
  },
  {
   "cell_type": "code",
   "execution_count": 52,
   "metadata": {},
   "outputs": [],
   "source": [
    "df = pd.read_csv(\"C:/Users/javi2/Desktop/TFG - Webots/TFG/Data/Test Case 3/No ruido/ULA_8.csv\")"
   ]
  },
  {
   "cell_type": "code",
   "execution_count": 58,
   "metadata": {},
   "outputs": [
    {
     "name": "stdout",
     "output_type": "stream",
     "text": [
      "Mean data X:  -182\n",
      "Mean data Y:  1840\n"
     ]
    }
   ],
   "source": [
    "data = df.loc[(df[\"PosicionX\"] == -182) & (df[\"PosicionY\"] == 1840)]\n",
    "if data.empty:\n",
    "    print(\"No hay datos\")\n",
    "else:\n",
    "    print(\"Mean data X: \", data[\"PosicionX\"].iloc[0])\n",
    "    print(\"Mean data Y: \", data[\"PosicionY\"].iloc[0])\n"
   ]
  },
  {
   "cell_type": "code",
   "execution_count": null,
   "metadata": {},
   "outputs": [],
   "source": [
    "\n",
    "def round_position(position):\n",
    "    # Redondear la coordenada X al más cercano que termine en 2 o en 7\n",
    "    real_position = position.copy()\n",
    "    if real_position[0] >= 0:\n",
    "        real_position[0] = round(real_position[0] / 10) * 10 + (2 if real_position[0] % 10 < 5 else (7 if real_position[0] % 10 == 5 else -3))\n",
    "    else:\n",
    "        real_position[0] = round(real_position[0] / 10) * 10 + (3 if real_position[0] % 10 < 5 else (-7 if real_position[0] % 10 == 5 else -2))\n",
    "\n",
    "    # Redondear la coordenada Y al más cercano que termine en 0 o en 5\n",
    "    real_position[1] = round(real_position[1] / 5) * 5\n",
    "    \n",
    "    # Si la coordenada Y es mayor a 2779, restar 1\n",
    "    if real_position[1] > 2779:\n",
    "        real_position[1] -= 1\n",
    "\n",
    "    # # Aplicar límites de posición X\n",
    "    # real_position[0] = max(-1437, min(1357, real_position[0]))\n",
    "    # if -187 < real_position[0] < 107:\n",
    "    #     real_position[0] = -187 if real_position[0] < -40 else 107\n",
    "\n",
    "    # # Aplicar límites de posición Y\n",
    "    # real_position[1] = max(1155, min(4029, real_position[1]))\n",
    "    # if 2405 < real_position[1] < 2779:\n",
    "    #     real_position[1] = 2405 if real_position[1] < 2592 else 2779\n",
    "\n",
    "    # Aplicar límites de posición\n",
    "    real_position[0] = max(-1437, min(1357, real_position[0]))\n",
    "    real_position[1] = max(1155, min(4029, real_position[1]))\n",
    "\n",
    "\n",
    "    return real_position\n",
    "\n",
    "def getReading2(real_position):\n",
    "        \"\"\"\n",
    "        Reads a dataset file, obtains the data of the position and applies a noise.\n",
    "        With that data, the model predicts the position of the robot.\n",
    "\n",
    "        ! Args:\n",
    "            * folder (str): The main folder where all the needed data is located.\n",
    "            * real_position (list): The real position of the robot. Example: [-758.0246871437575, 1798.9217383115995]\n",
    "\n",
    "        ! Returns:\n",
    "            ? float: The predicted position of the robot.\n",
    "\n",
    "        \"\"\"\n",
    "        \n",
    "        df = pd.read_csv(\"C:/Users/javi2/Desktop/TFG - Webots/TFG/Data/Test Case 3/No ruido/ULA_8.csv\")\n",
    "        # Obtain the adjusted/normalized/rounded position with respect to the nearest position of the measurements\n",
    "        position = round_position(real_position) # Example: [-756.6850000000001, 1803.5]\n",
    "        # Obtain the data from the dataset that corresponds to the position\n",
    "        \n",
    "        \n",
    "        \n",
    "        mean_data = df.loc[(df['PosicionX'] == position[0]) & (df['PosicionY'] == position[1])]\n",
    "\n",
    "        print(\"Mean data X: \", mean_data[\"PosicionX\"])\n",
    "        print(\"Mean data Y: \", mean_data[\"PosicionY\"])\n",
    "\n",
    "        if mean_data.empty:\n",
    "            print(\"No hay datos para esa posición\")\n",
    "            return None\n",
    "        \n",
    "        mean_data = mean_data.iloc[[0]]\n",
    "\n",
    "        \n",
    "        # Normalize the data\n",
    "        # columns_to_normalize = mean_data.columns[:-2]\n",
    "        \n",
    "        # # maximum = df[columns_to_normalize].max()\n",
    "        # # minimum = df[columns_to_normalize].min()\n",
    "\n",
    "        # max_min_file = os.path.join(folder + \"Models/\" + self.scenario + \"/\" + self.scenario + \" \" + self.num_antennas + \"/max_min.npy\")\n",
    "\n",
    "        # if os.path.exists(max_min_file):\n",
    "        #     maximum, minimum = np.load(max_min_file)\n",
    "        # else:\n",
    "        #     maximum, minimum = self.getMaxMin(df, columns_to_normalize)\n",
    "        #     np.save(max_min_file, [maximum, minimum])\n",
    "        \n",
    "        # data_normalized = (mean_data[columns_to_normalize] - minimum) / (maximum - minimum)\n",
    "        # data_normalized = pd.concat([data_normalized, mean_data[mean_data.columns[-2]], mean_data[mean_data.columns[-1]]], axis=1)\n",
    "        \n",
    "        # # Generate image of the data\n",
    "\n",
    "        # pixel = 35\n",
    "\n",
    "        # #image_model = TINTO(problem=\"regression\",pixels=pixel,blur=True)\n",
    "\n",
    "        # #images_dir = \"C:/Users/javi2/Desktop/TFG - Webots/TFG/Images/ULA8_Temp/\"\n",
    "        # # images_dir = folder + \"Images/\" + self.scenario + self.num_antennas + \"TestCase1/\"\n",
    "        # images_dir = folder + \"Images/TestCase3/\"\n",
    "        # loaded_model = pickle.load(open(folder + \"Models/\" + self.scenario + \"/\" + self.scenario + \" \" + self.num_antennas + \"/image_model.pkl\", \"rb\"))\n",
    "\n",
    "        # if os.path.exists(images_dir):\n",
    "        #     shutil.rmtree(images_dir)\n",
    "\n",
    "        # loaded_model.generateImages_2(mean_data.iloc[:,:-1], images_dir)\n",
    "\n",
    "    \n",
    "        # img_paths = os.path.join(images_dir + \"/regression.csv\")\n",
    "        \n",
    "        # imgs = pd.read_csv(img_paths)\n",
    "        \n",
    "        # imgs[\"images\"] = images_dir + \"/\" + imgs[\"images\"]\n",
    "        # imgs[\"images\"] = imgs[\"images\"].str.replace(\"\\\\\",\"/\")\n",
    "\n",
    "        # x_num = data_normalized.drop(\"PosicionX\",axis=1).drop(\"PosicionY\",axis=1)\n",
    "        \n",
    "        # image_path = imgs[\"images\"].iloc[0]\n",
    "        # image = cv2.imread(image_path)\n",
    "        \n",
    "        # if image is not None:\n",
    "        #     try:\n",
    "        #         x_img = np.array([cv2.resize(image, (pixel, pixel))])\n",
    "        #     except Exception as e:\n",
    "        #         print(e)\n",
    "        #         print(\"Error resizing image\")\n",
    "        # else:\n",
    "        #     print(\"Error reading image\")\n",
    "            \n",
    "        # # x_img = cv2.resize(img, (pixel, pixel))\n",
    "        \n",
    "        # # Predict the position of the robot with the data\n",
    "        \n",
    "\n",
    "\n",
    "        # models_dir = folder + \"Models/\" + self.scenario + \"/\" + self.scenario + \" \" + self.num_antennas + \"/\"\n",
    "\n",
    "        # if self.modelX is None or self.modelY is None:\n",
    "        #     self.modelX = keras.models.load_model(models_dir + \"modelX.h5\", custom_objects={'RSquare': RSquare})\n",
    "        #     self.modelY = keras.models.load_model(models_dir + \"modelY.h5\", custom_objects={'RSquare': RSquare})\n",
    "\n",
    "        \n",
    "        # # # Predict the position of the robot\n",
    "        # predictionX = self.modelX.predict([x_num, x_img], verbose=0)\n",
    "        # predictionY = self.modelY.predict([x_num, x_img], verbose=0)\n",
    "        # #print(predictionX[0])\n",
    "        # #print(predictionY[0])\n",
    "\n",
    "        # print(\"Posición real: \", real_position)\n",
    "        # print(\"Posición real (redondeada): \", position)\n",
    "        # print(\"Posición estimada: \", [predictionX[0][0], predictionY[0][0]])\n",
    "        \n",
    "        # error_test = self.true_dist([predictionX[0][0], predictionY[0][0]], [position[0], position[1]])\n",
    "        # print(\"Error test: \", error_test)\n",
    "\n",
    "        # return [real_position, position, [predictionX[0][0], predictionY[0][0]]]\n",
    "\n",
    "getReading2([-182, 1840])"
   ]
  }
 ],
 "metadata": {
  "kernelspec": {
   "display_name": "Python 3",
   "language": "python",
   "name": "python3"
  },
  "language_info": {
   "codemirror_mode": {
    "name": "ipython",
    "version": 3
   },
   "file_extension": ".py",
   "mimetype": "text/x-python",
   "name": "python",
   "nbconvert_exporter": "python",
   "pygments_lexer": "ipython3",
   "version": "3.11.9"
  }
 },
 "nbformat": 4,
 "nbformat_minor": 2
}
