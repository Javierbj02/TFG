{
 "cells": [
  {
   "cell_type": "code",
   "execution_count": 3,
   "metadata": {},
   "outputs": [],
   "source": [
    "import pandas as pd\n",
    "import numpy as np"
   ]
  },
  {
   "cell_type": "code",
   "execution_count": 4,
   "metadata": {},
   "outputs": [],
   "source": [
    "df = pd.read_csv(\"C:/Users/javi2/Desktop/TFG - Webots/TFG/Data/Test Cases/5mm/ULA_8.csv\")"
   ]
  },
  {
   "cell_type": "code",
   "execution_count": 5,
   "metadata": {},
   "outputs": [
    {
     "name": "stdout",
     "output_type": "stream",
     "text": [
      "(274, 1602)\n"
     ]
    }
   ],
   "source": [
    "\n",
    "data = df.copy()\n",
    "\n",
    "columns_to_noise = data.columns[:-2] # Quitamos posiciones\n",
    "\n",
    "std_devs = data[columns_to_noise].std()\n",
    "\n",
    "\"\"\" np.random.normal() genera muestra aleatorias de una \n",
    "distribución normal (Gaussiana). 'loc' es la media de la distribución normal.\n",
    "En este caso, la media es 0, por lo que el ruido tendrá media 0. scale \n",
    "es la desviación estándar de la distribución normal. En este caso, la desviación es la \n",
    "desviación estándar de cada columna de los datos originales. 'size' es el tamaño de la muestra.\n",
    "\n",
    "\"\"\"\n",
    "\n",
    "# Generar ruido con baja escala de desviación típica\n",
    "low_scale_noise = np.random.normal(loc=0, scale=0.1*std_devs, size=data[columns_to_noise].shape)\n",
    "data_low_noise = data.copy()\n",
    "data_low_noise[columns_to_noise] += low_scale_noise\n",
    "data_low_noise.to_csv(\"low_noise.csv\", index=False)\n",
    "\n",
    "# Generar ruido con escala de desviación típica media\n",
    "medium_scale_noise = np.random.normal(loc=0, scale=0.5*std_devs, size=data[columns_to_noise].shape)\n",
    "data_medium_noise = data.copy()\n",
    "data_medium_noise[columns_to_noise] += medium_scale_noise\n",
    "data_medium_noise.to_csv(\"medium_noise.csv\", index=False)\n",
    "\n",
    "# Generar ruido con alta escala de desviación típica\n",
    "high_scale_noise = np.random.normal(loc=0, scale=1.0*std_devs, size=data[columns_to_noise].shape)\n",
    "data_high_noise = data.copy()\n",
    "data_high_noise[columns_to_noise] += high_scale_noise\n",
    "data_high_noise.to_csv(\"high_noise.csv\", index=False)\n",
    "\n",
    "# ! Problema: yo tengo los datos en forma polar: modulo y fase."
   ]
  },
  {
   "cell_type": "code",
   "execution_count": 8,
   "metadata": {},
   "outputs": [
    {
     "name": "stderr",
     "output_type": "stream",
     "text": [
      "C:\\Users\\javi2\\AppData\\Local\\Temp\\ipykernel_7488\\233724973.py:26: PerformanceWarning: DataFrame is highly fragmented.  This is usually the result of calling `frame.insert` many times, which has poor performance.  Consider joining all columns at once using pd.concat(axis=1) instead. To get a de-fragmented frame, use `newframe = frame.copy()`\n",
      "  data_noisy['PosicionX'] = posicionX\n",
      "C:\\Users\\javi2\\AppData\\Local\\Temp\\ipykernel_7488\\233724973.py:27: PerformanceWarning: DataFrame is highly fragmented.  This is usually the result of calling `frame.insert` many times, which has poor performance.  Consider joining all columns at once using pd.concat(axis=1) instead. To get a de-fragmented frame, use `newframe = frame.copy()`\n",
      "  data_noisy['PosicionY'] = posicionY\n"
     ]
    }
   ],
   "source": [
    "data = df.copy()\n",
    "\n",
    "posicionX = data['PosicionX']\n",
    "posicionY = data['PosicionY']\n",
    "\n",
    "# Elimino las columnas de posición\n",
    "data = data.drop(['PosicionX', 'PosicionY'], axis=1)\n",
    "\n",
    "columns_modulo = data.columns[::2] # Columnas de los módulos\n",
    "columns_fase = data.columns[1::2] # Columnas de las fases\n",
    "\n",
    "std_devs_modulo = data[columns_modulo].std() # Desviación típica de los módulos\n",
    "std_devs_fase = data[columns_fase].std() # Desviación típica de las fases\n",
    "\n",
    "# Generar ruido con baja escala de desviación típica al módulo\n",
    "low_scale_noise_modulo = np.random.normal(loc=0, scale=0.1*std_devs_modulo, size=data[columns_modulo].shape)\n",
    "\n",
    "# Generar ruido con baja escala de la desviación típica a la fase. Tener en cuenta que la fase está definida dentro de los rangos de -pi a pi.\n",
    "low_scale_noise_fase = np.random.normal(loc=0, scale=0.1*std_devs_fase, size=data[columns_fase].shape)\n",
    "\n",
    "data_noisy = data.copy()\n",
    "data_noisy[columns_modulo] += low_scale_noise_modulo\n",
    "data_noisy[columns_fase] += low_scale_noise_fase\n",
    "data_noisy[columns_fase] = np.mod(data_noisy[columns_fase] + np.pi, 2*np.pi) - np.pi\n",
    "\n",
    "data_noisy['PosicionX'] = posicionX\n",
    "data_noisy['PosicionY'] = posicionY\n",
    "\n",
    "data_noisy.to_csv(\"C:/Users/javi2/Desktop/TFG - Webots/TFG/Data/Test Cases/5mm/Ruido bajo/ULA_8.csv\", index=False)\n",
    "\n"
   ]
  },
  {
   "cell_type": "code",
   "execution_count": 9,
   "metadata": {},
   "outputs": [
    {
     "name": "stderr",
     "output_type": "stream",
     "text": [
      "C:\\Users\\javi2\\AppData\\Local\\Temp\\ipykernel_7488\\3427769534.py:26: PerformanceWarning: DataFrame is highly fragmented.  This is usually the result of calling `frame.insert` many times, which has poor performance.  Consider joining all columns at once using pd.concat(axis=1) instead. To get a de-fragmented frame, use `newframe = frame.copy()`\n",
      "  data_noisy['PosicionX'] = posicionX\n",
      "C:\\Users\\javi2\\AppData\\Local\\Temp\\ipykernel_7488\\3427769534.py:27: PerformanceWarning: DataFrame is highly fragmented.  This is usually the result of calling `frame.insert` many times, which has poor performance.  Consider joining all columns at once using pd.concat(axis=1) instead. To get a de-fragmented frame, use `newframe = frame.copy()`\n",
      "  data_noisy['PosicionY'] = posicionY\n"
     ]
    }
   ],
   "source": [
    "data = df.copy()\n",
    "\n",
    "posicionX = data['PosicionX']\n",
    "posicionY = data['PosicionY']\n",
    "\n",
    "# Elimino las columnas de posición\n",
    "data = data.drop(['PosicionX', 'PosicionY'], axis=1)\n",
    "\n",
    "columns_modulo = data.columns[::2] # Columnas de los módulos\n",
    "columns_fase = data.columns[1::2] # Columnas de las fases\n",
    "\n",
    "std_devs_modulo = data[columns_modulo].std() # Desviación típica de los módulos\n",
    "std_devs_fase = data[columns_fase].std() # Desviación típica de las fases\n",
    "\n",
    "# Generar ruido con media escala de desviación típica al módulo\n",
    "low_scale_noise_modulo = np.random.normal(loc=0, scale=0.5*std_devs_modulo, size=data[columns_modulo].shape)\n",
    "\n",
    "# Generar ruido con media escala de la desviación típica a la fase. Tener en cuenta que la fase está definida dentro de los rangos de -pi a pi.\n",
    "low_scale_noise_fase = np.random.normal(loc=0, scale=0.5*std_devs_fase, size=data[columns_fase].shape)\n",
    "\n",
    "data_noisy = data.copy()\n",
    "data_noisy[columns_modulo] += low_scale_noise_modulo\n",
    "data_noisy[columns_fase] += low_scale_noise_fase\n",
    "data_noisy[columns_fase] = np.mod(data_noisy[columns_fase] + np.pi, 2*np.pi) - np.pi\n",
    "\n",
    "data_noisy['PosicionX'] = posicionX\n",
    "data_noisy['PosicionY'] = posicionY\n",
    "\n",
    "data_noisy.to_csv(\"C:/Users/javi2/Desktop/TFG - Webots/TFG/Data/Test Cases/5mm/Ruido medio/ULA_8.csv\", index=False)\n",
    "\n"
   ]
  },
  {
   "cell_type": "code",
   "execution_count": 6,
   "metadata": {},
   "outputs": [],
   "source": [
    "data = df.copy()\n",
    "\n",
    "posicionX = data['PosicionX']\n",
    "posicionY = data['PosicionY']\n",
    "\n",
    "# Elimino las columnas de posición\n",
    "data = data.drop(['PosicionX', 'PosicionY'], axis=1)\n",
    "\n",
    "columns_modulo = data.columns[::2] # Columnas de los módulos\n",
    "columns_fase = data.columns[1::2] # Columnas de las fases\n",
    "\n",
    "std_devs_modulo = data[columns_modulo].std() # Desviación típica de los módulos\n",
    "std_devs_fase = data[columns_fase].std() # Desviación típica de las fases\n",
    "\n",
    "# Generar ruido con elevada escala de desviación típica al módulo\n",
    "low_scale_noise_modulo = np.random.normal(loc=0, scale=std_devs_modulo, size=data[columns_modulo].shape)\n",
    "\n",
    "# Generar ruido con elevada escala de la desviación típica a la fase. Tener en cuenta que la fase está definida dentro de los rangos de -pi a pi.\n",
    "low_scale_noise_fase = np.random.normal(loc=0, scale=std_devs_fase, size=data[columns_fase].shape)\n",
    "\n",
    "data_noisy = data.copy()\n",
    "data_noisy[columns_modulo] += low_scale_noise_modulo\n",
    "data_noisy[columns_fase] += low_scale_noise_fase\n",
    "data_noisy[columns_fase] = np.mod(data_noisy[columns_fase] + np.pi, 2*np.pi) - np.pi\n",
    "\n",
    "data_noisy['PosicionX'] = posicionX\n",
    "data_noisy['PosicionY'] = posicionY\n",
    "\n",
    "data_noisy.to_csv(\"C:/Users/javi2/Desktop/TFG - Webots/TFG/Data/Test Cases/5mm/Ruido elevado/ULA_8.csv\", index=False)\n",
    "\n"
   ]
  }
 ],
 "metadata": {
  "kernelspec": {
   "display_name": "Python 3",
   "language": "python",
   "name": "python3"
  },
  "language_info": {
   "codemirror_mode": {
    "name": "ipython",
    "version": 3
   },
   "file_extension": ".py",
   "mimetype": "text/x-python",
   "name": "python",
   "nbconvert_exporter": "python",
   "pygments_lexer": "ipython3",
   "version": "3.11.9"
  }
 },
 "nbformat": 4,
 "nbformat_minor": 2
}
