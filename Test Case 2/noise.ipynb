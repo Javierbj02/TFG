{
 "cells": [
  {
   "cell_type": "code",
   "execution_count": 1,
   "metadata": {},
   "outputs": [],
   "source": [
    "import pandas as pd\n",
    "import numpy as np"
   ]
  },
  {
   "cell_type": "code",
   "execution_count": 2,
   "metadata": {},
   "outputs": [],
   "source": [
    "df = pd.read_csv(\"C:/Users/javi2/Desktop/TFG - Webots/TFG/Data/Test Case 2/No ruido/ULA_8.csv\")"
   ]
  },
  {
   "cell_type": "code",
   "execution_count": 3,
   "metadata": {},
   "outputs": [
    {
     "name": "stderr",
     "output_type": "stream",
     "text": [
      "C:\\Users\\javi2\\AppData\\Local\\Temp\\ipykernel_25576\\3109570628.py:29: PerformanceWarning: DataFrame is highly fragmented.  This is usually the result of calling `frame.insert` many times, which has poor performance.  Consider joining all columns at once using pd.concat(axis=1) instead. To get a de-fragmented frame, use `newframe = frame.copy()`\n",
      "  data_noisy['PosicionX'] = posicionX\n",
      "C:\\Users\\javi2\\AppData\\Local\\Temp\\ipykernel_25576\\3109570628.py:30: PerformanceWarning: DataFrame is highly fragmented.  This is usually the result of calling `frame.insert` many times, which has poor performance.  Consider joining all columns at once using pd.concat(axis=1) instead. To get a de-fragmented frame, use `newframe = frame.copy()`\n",
      "  data_noisy['PosicionY'] = posicionY\n"
     ]
    }
   ],
   "source": [
    "data = df.copy()\n",
    "\n",
    "posicionX = data['PosicionX']\n",
    "posicionY = data['PosicionY']\n",
    "\n",
    "# Elimino las columnas de posición\n",
    "data = data.drop(['PosicionX', 'PosicionY'], axis=1)\n",
    "\n",
    "columns_modulo = data.columns[::2] # Columnas de los módulos\n",
    "columns_fase = data.columns[1::2] # Columnas de las fases\n",
    "\n",
    "std_devs_modulo = data[columns_modulo].std() # Desviación típica de los módulos\n",
    "std_devs_fase = data[columns_fase].std() # Desviación típica de las fases\n",
    "\n",
    "# Generar ruido con baja escala de desviación típica al módulo\n",
    "low_scale_noise_modulo = np.random.normal(loc=0, scale=0.3*std_devs_modulo, size=data[columns_modulo].shape)\n",
    "\n",
    "# Generar ruido con baja escala de la desviación típica a la fase. Tener en cuenta que la fase está definida dentro de los rangos de -pi a pi.\n",
    "low_scale_noise_fase = np.random.normal(loc=0, scale=0.3*std_devs_fase, size=data[columns_fase].shape)\n",
    "\n",
    "data_noisy = data.copy()\n",
    "data_noisy[columns_modulo] += low_scale_noise_modulo\n",
    "data_noisy[columns_fase] += low_scale_noise_fase\n",
    "# data_noisy[columns_fase] = np.mod(data_noisy[columns_fase] + np.pi, 2*np.pi) - np.pi\n",
    "\n",
    "data_noisy[columns_modulo] = np.clip(data_noisy[columns_modulo], 0, 1)\n",
    "data_noisy[columns_fase] = np.clip(data_noisy[columns_fase], -np.pi, np.pi)\n",
    "\n",
    "data_noisy['PosicionX'] = posicionX\n",
    "data_noisy['PosicionY'] = posicionY\n",
    "\n",
    "data_noisy.to_csv(\"C:/Users/javi2/Desktop/TFG - Webots/TFG/Data/Test Case 2/Ruido bajo/ULA_8.csv\", index=False)\n",
    "\n"
   ]
  },
  {
   "cell_type": "code",
   "execution_count": 4,
   "metadata": {},
   "outputs": [
    {
     "name": "stderr",
     "output_type": "stream",
     "text": [
      "C:\\Users\\javi2\\AppData\\Local\\Temp\\ipykernel_25576\\1364884749.py:29: PerformanceWarning: DataFrame is highly fragmented.  This is usually the result of calling `frame.insert` many times, which has poor performance.  Consider joining all columns at once using pd.concat(axis=1) instead. To get a de-fragmented frame, use `newframe = frame.copy()`\n",
      "  data_noisy['PosicionX'] = posicionX\n",
      "C:\\Users\\javi2\\AppData\\Local\\Temp\\ipykernel_25576\\1364884749.py:30: PerformanceWarning: DataFrame is highly fragmented.  This is usually the result of calling `frame.insert` many times, which has poor performance.  Consider joining all columns at once using pd.concat(axis=1) instead. To get a de-fragmented frame, use `newframe = frame.copy()`\n",
      "  data_noisy['PosicionY'] = posicionY\n"
     ]
    }
   ],
   "source": [
    "data = df.copy()\n",
    "\n",
    "posicionX = data['PosicionX']\n",
    "posicionY = data['PosicionY']\n",
    "\n",
    "# Elimino las columnas de posición\n",
    "data = data.drop(['PosicionX', 'PosicionY'], axis=1)\n",
    "\n",
    "columns_modulo = data.columns[::2] # Columnas de los módulos\n",
    "columns_fase = data.columns[1::2] # Columnas de las fases\n",
    "\n",
    "std_devs_modulo = data[columns_modulo].std() # Desviación típica de los módulos\n",
    "std_devs_fase = data[columns_fase].std() # Desviación típica de las fases\n",
    "\n",
    "# Generar ruido con media escala de desviación típica al módulo\n",
    "low_scale_noise_modulo = np.random.normal(loc=0, scale=0.6*std_devs_modulo, size=data[columns_modulo].shape)\n",
    "\n",
    "# Generar ruido con media escala de la desviación típica a la fase. Tener en cuenta que la fase está definida dentro de los rangos de -pi a pi.\n",
    "low_scale_noise_fase = np.random.normal(loc=0, scale=0.6*std_devs_fase, size=data[columns_fase].shape)\n",
    "\n",
    "data_noisy = data.copy()\n",
    "data_noisy[columns_modulo] += low_scale_noise_modulo\n",
    "data_noisy[columns_fase] += low_scale_noise_fase\n",
    "# data_noisy[columns_fase] = np.mod(data_noisy[columns_fase] + np.pi, 2*np.pi) - np.pi\n",
    "\n",
    "data_noisy[columns_modulo] = np.clip(data_noisy[columns_modulo], 0, 1)\n",
    "data_noisy[columns_fase] = np.clip(data_noisy[columns_fase], -np.pi, np.pi)\n",
    "\n",
    "data_noisy['PosicionX'] = posicionX\n",
    "data_noisy['PosicionY'] = posicionY\n",
    "\n",
    "data_noisy.to_csv(\"C:/Users/javi2/Desktop/TFG - Webots/TFG/Data/Test Case 2/Ruido medio/ULA_8.csv\", index=False)\n",
    "\n"
   ]
  },
  {
   "cell_type": "code",
   "execution_count": 5,
   "metadata": {},
   "outputs": [
    {
     "name": "stderr",
     "output_type": "stream",
     "text": [
      "C:\\Users\\javi2\\AppData\\Local\\Temp\\ipykernel_25576\\3030797090.py:29: PerformanceWarning: DataFrame is highly fragmented.  This is usually the result of calling `frame.insert` many times, which has poor performance.  Consider joining all columns at once using pd.concat(axis=1) instead. To get a de-fragmented frame, use `newframe = frame.copy()`\n",
      "  data_noisy['PosicionX'] = posicionX\n",
      "C:\\Users\\javi2\\AppData\\Local\\Temp\\ipykernel_25576\\3030797090.py:30: PerformanceWarning: DataFrame is highly fragmented.  This is usually the result of calling `frame.insert` many times, which has poor performance.  Consider joining all columns at once using pd.concat(axis=1) instead. To get a de-fragmented frame, use `newframe = frame.copy()`\n",
      "  data_noisy['PosicionY'] = posicionY\n"
     ]
    }
   ],
   "source": [
    "data = df.copy()\n",
    "\n",
    "posicionX = data['PosicionX']\n",
    "posicionY = data['PosicionY']\n",
    "\n",
    "# Elimino las columnas de posición\n",
    "data = data.drop(['PosicionX', 'PosicionY'], axis=1)\n",
    "\n",
    "columns_modulo = data.columns[::2] # Columnas de los módulos\n",
    "columns_fase = data.columns[1::2] # Columnas de las fases\n",
    "\n",
    "std_devs_modulo = data[columns_modulo].std() # Desviación típica de los módulos\n",
    "std_devs_fase = data[columns_fase].std() # Desviación típica de las fases\n",
    "\n",
    "# Generar ruido con elevada escala de desviación típica al módulo\n",
    "low_scale_noise_modulo = np.random.normal(loc=0, scale=1*std_devs_modulo, size=data[columns_modulo].shape)\n",
    "\n",
    "# Generar ruido con elevada escala de la desviación típica a la fase. Tener en cuenta que la fase está definida dentro de los rangos de -pi a pi.\n",
    "low_scale_noise_fase = np.random.normal(loc=0, scale=1*std_devs_fase, size=data[columns_fase].shape)\n",
    "\n",
    "data_noisy = data.copy()\n",
    "data_noisy[columns_modulo] += low_scale_noise_modulo\n",
    "data_noisy[columns_fase] += low_scale_noise_fase\n",
    "# data_noisy[columns_fase] = np.mod(data_noisy[columns_fase] + np.pi, 2*np.pi) - np.pi\n",
    "\n",
    "data_noisy[columns_modulo] = np.clip(data_noisy[columns_modulo], 0, 1)\n",
    "data_noisy[columns_fase] = np.clip(data_noisy[columns_fase], -np.pi, np.pi)\n",
    "\n",
    "data_noisy['PosicionX'] = posicionX\n",
    "data_noisy['PosicionY'] = posicionY\n",
    "\n",
    "data_noisy.to_csv(\"C:/Users/javi2/Desktop/TFG - Webots/TFG/Data/Test Case 2/Ruido elevado/ULA_8.csv\", index=False)\n",
    "\n"
   ]
  },
  {
   "cell_type": "code",
   "execution_count": 6,
   "metadata": {},
   "outputs": [],
   "source": [
    "df = pd.read_csv(\"C:/Users/javi2/Desktop/TFG - Webots/TFG/Data/Test Case 2/No ruido/ULA_16.csv\")"
   ]
  },
  {
   "cell_type": "code",
   "execution_count": 7,
   "metadata": {},
   "outputs": [
    {
     "name": "stderr",
     "output_type": "stream",
     "text": [
      "C:\\Users\\javi2\\AppData\\Local\\Temp\\ipykernel_25576\\2107120610.py:29: PerformanceWarning: DataFrame is highly fragmented.  This is usually the result of calling `frame.insert` many times, which has poor performance.  Consider joining all columns at once using pd.concat(axis=1) instead. To get a de-fragmented frame, use `newframe = frame.copy()`\n",
      "  data_noisy['PosicionX'] = posicionX\n",
      "C:\\Users\\javi2\\AppData\\Local\\Temp\\ipykernel_25576\\2107120610.py:30: PerformanceWarning: DataFrame is highly fragmented.  This is usually the result of calling `frame.insert` many times, which has poor performance.  Consider joining all columns at once using pd.concat(axis=1) instead. To get a de-fragmented frame, use `newframe = frame.copy()`\n",
      "  data_noisy['PosicionY'] = posicionY\n"
     ]
    }
   ],
   "source": [
    "data = df.copy()\n",
    "\n",
    "posicionX = data['PosicionX']\n",
    "posicionY = data['PosicionY']\n",
    "\n",
    "# Elimino las columnas de posición\n",
    "data = data.drop(['PosicionX', 'PosicionY'], axis=1)\n",
    "\n",
    "columns_modulo = data.columns[::2] # Columnas de los módulos\n",
    "columns_fase = data.columns[1::2] # Columnas de las fases\n",
    "\n",
    "std_devs_modulo = data[columns_modulo].std() # Desviación típica de los módulos\n",
    "std_devs_fase = data[columns_fase].std() # Desviación típica de las fases\n",
    "\n",
    "# Generar ruido con baja escala de desviación típica al módulo\n",
    "low_scale_noise_modulo = np.random.normal(loc=0, scale=0.3*std_devs_modulo, size=data[columns_modulo].shape)\n",
    "\n",
    "# Generar ruido con baja escala de la desviación típica a la fase. Tener en cuenta que la fase está definida dentro de los rangos de -pi a pi.\n",
    "low_scale_noise_fase = np.random.normal(loc=0, scale=0.3*std_devs_fase, size=data[columns_fase].shape)\n",
    "\n",
    "data_noisy = data.copy()\n",
    "data_noisy[columns_modulo] += low_scale_noise_modulo\n",
    "data_noisy[columns_fase] += low_scale_noise_fase\n",
    "# data_noisy[columns_fase] = np.mod(data_noisy[columns_fase] + np.pi, 2*np.pi) - np.pi\n",
    "\n",
    "data_noisy[columns_modulo] = np.clip(data_noisy[columns_modulo], 0, 1)\n",
    "data_noisy[columns_fase] = np.clip(data_noisy[columns_fase], -np.pi, np.pi)\n",
    "\n",
    "data_noisy['PosicionX'] = posicionX\n",
    "data_noisy['PosicionY'] = posicionY\n",
    "\n",
    "data_noisy.to_csv(\"C:/Users/javi2/Desktop/TFG - Webots/TFG/Data/Test Case 2/Ruido bajo/ULA_16.csv\", index=False)\n",
    "\n"
   ]
  },
  {
   "cell_type": "code",
   "execution_count": 8,
   "metadata": {},
   "outputs": [
    {
     "name": "stderr",
     "output_type": "stream",
     "text": [
      "C:\\Users\\javi2\\AppData\\Local\\Temp\\ipykernel_25576\\3346118967.py:29: PerformanceWarning: DataFrame is highly fragmented.  This is usually the result of calling `frame.insert` many times, which has poor performance.  Consider joining all columns at once using pd.concat(axis=1) instead. To get a de-fragmented frame, use `newframe = frame.copy()`\n",
      "  data_noisy['PosicionX'] = posicionX\n",
      "C:\\Users\\javi2\\AppData\\Local\\Temp\\ipykernel_25576\\3346118967.py:30: PerformanceWarning: DataFrame is highly fragmented.  This is usually the result of calling `frame.insert` many times, which has poor performance.  Consider joining all columns at once using pd.concat(axis=1) instead. To get a de-fragmented frame, use `newframe = frame.copy()`\n",
      "  data_noisy['PosicionY'] = posicionY\n"
     ]
    }
   ],
   "source": [
    "data = df.copy()\n",
    "\n",
    "posicionX = data['PosicionX']\n",
    "posicionY = data['PosicionY']\n",
    "\n",
    "# Elimino las columnas de posición\n",
    "data = data.drop(['PosicionX', 'PosicionY'], axis=1)\n",
    "\n",
    "columns_modulo = data.columns[::2] # Columnas de los módulos\n",
    "columns_fase = data.columns[1::2] # Columnas de las fases\n",
    "\n",
    "std_devs_modulo = data[columns_modulo].std() # Desviación típica de los módulos\n",
    "std_devs_fase = data[columns_fase].std() # Desviación típica de las fases\n",
    "\n",
    "# Generar ruido con media escala de desviación típica al módulo\n",
    "low_scale_noise_modulo = np.random.normal(loc=0, scale=0.6*std_devs_modulo, size=data[columns_modulo].shape)\n",
    "\n",
    "# Generar ruido con media escala de la desviación típica a la fase. Tener en cuenta que la fase está definida dentro de los rangos de -pi a pi.\n",
    "low_scale_noise_fase = np.random.normal(loc=0, scale=0.6*std_devs_fase, size=data[columns_fase].shape)\n",
    "\n",
    "data_noisy = data.copy()\n",
    "data_noisy[columns_modulo] += low_scale_noise_modulo\n",
    "data_noisy[columns_fase] += low_scale_noise_fase\n",
    "# data_noisy[columns_fase] = np.mod(data_noisy[columns_fase] + np.pi, 2*np.pi) - np.pi\n",
    "\n",
    "data_noisy[columns_modulo] = np.clip(data_noisy[columns_modulo], 0, 1)\n",
    "data_noisy[columns_fase] = np.clip(data_noisy[columns_fase], -np.pi, np.pi)\n",
    "\n",
    "data_noisy['PosicionX'] = posicionX\n",
    "data_noisy['PosicionY'] = posicionY\n",
    "\n",
    "data_noisy.to_csv(\"C:/Users/javi2/Desktop/TFG - Webots/TFG/Data/Test Case 2/Ruido medio/ULA_16.csv\", index=False)\n",
    "\n"
   ]
  },
  {
   "cell_type": "code",
   "execution_count": 9,
   "metadata": {},
   "outputs": [
    {
     "name": "stderr",
     "output_type": "stream",
     "text": [
      "C:\\Users\\javi2\\AppData\\Local\\Temp\\ipykernel_25576\\2820575426.py:29: PerformanceWarning: DataFrame is highly fragmented.  This is usually the result of calling `frame.insert` many times, which has poor performance.  Consider joining all columns at once using pd.concat(axis=1) instead. To get a de-fragmented frame, use `newframe = frame.copy()`\n",
      "  data_noisy['PosicionX'] = posicionX\n",
      "C:\\Users\\javi2\\AppData\\Local\\Temp\\ipykernel_25576\\2820575426.py:30: PerformanceWarning: DataFrame is highly fragmented.  This is usually the result of calling `frame.insert` many times, which has poor performance.  Consider joining all columns at once using pd.concat(axis=1) instead. To get a de-fragmented frame, use `newframe = frame.copy()`\n",
      "  data_noisy['PosicionY'] = posicionY\n"
     ]
    }
   ],
   "source": [
    "data = df.copy()\n",
    "\n",
    "posicionX = data['PosicionX']\n",
    "posicionY = data['PosicionY']\n",
    "\n",
    "# Elimino las columnas de posición\n",
    "data = data.drop(['PosicionX', 'PosicionY'], axis=1)\n",
    "\n",
    "columns_modulo = data.columns[::2] # Columnas de los módulos\n",
    "columns_fase = data.columns[1::2] # Columnas de las fases\n",
    "\n",
    "std_devs_modulo = data[columns_modulo].std() # Desviación típica de los módulos\n",
    "std_devs_fase = data[columns_fase].std() # Desviación típica de las fases\n",
    "\n",
    "# Generar ruido con elevada escala de desviación típica al módulo\n",
    "low_scale_noise_modulo = np.random.normal(loc=0, scale=1*std_devs_modulo, size=data[columns_modulo].shape)\n",
    "\n",
    "# Generar ruido con elevada escala de la desviación típica a la fase. Tener en cuenta que la fase está definida dentro de los rangos de -pi a pi.\n",
    "low_scale_noise_fase = np.random.normal(loc=0, scale=1*std_devs_fase, size=data[columns_fase].shape)\n",
    "\n",
    "data_noisy = data.copy()\n",
    "data_noisy[columns_modulo] += low_scale_noise_modulo\n",
    "data_noisy[columns_fase] += low_scale_noise_fase\n",
    "# data_noisy[columns_fase] = np.mod(data_noisy[columns_fase] + np.pi, 2*np.pi) - np.pi\n",
    "\n",
    "data_noisy[columns_modulo] = np.clip(data_noisy[columns_modulo], 0, 1)\n",
    "data_noisy[columns_fase] = np.clip(data_noisy[columns_fase], -np.pi, np.pi)\n",
    "\n",
    "data_noisy['PosicionX'] = posicionX\n",
    "data_noisy['PosicionY'] = posicionY\n",
    "\n",
    "data_noisy.to_csv(\"C:/Users/javi2/Desktop/TFG - Webots/TFG/Data/Test Case 2/Ruido elevado/ULA_16.csv\", index=False)\n",
    "\n"
   ]
  },
  {
   "cell_type": "code",
   "execution_count": 10,
   "metadata": {},
   "outputs": [],
   "source": [
    "df = pd.read_csv(\"C:/Users/javi2/Desktop/TFG - Webots/TFG/Data/Test Case 2/No ruido/ULA_32.csv\")"
   ]
  },
  {
   "cell_type": "code",
   "execution_count": 11,
   "metadata": {},
   "outputs": [
    {
     "name": "stderr",
     "output_type": "stream",
     "text": [
      "C:\\Users\\javi2\\AppData\\Local\\Temp\\ipykernel_25576\\1154543693.py:29: PerformanceWarning: DataFrame is highly fragmented.  This is usually the result of calling `frame.insert` many times, which has poor performance.  Consider joining all columns at once using pd.concat(axis=1) instead. To get a de-fragmented frame, use `newframe = frame.copy()`\n",
      "  data_noisy['PosicionX'] = posicionX\n",
      "C:\\Users\\javi2\\AppData\\Local\\Temp\\ipykernel_25576\\1154543693.py:30: PerformanceWarning: DataFrame is highly fragmented.  This is usually the result of calling `frame.insert` many times, which has poor performance.  Consider joining all columns at once using pd.concat(axis=1) instead. To get a de-fragmented frame, use `newframe = frame.copy()`\n",
      "  data_noisy['PosicionY'] = posicionY\n"
     ]
    }
   ],
   "source": [
    "data = df.copy()\n",
    "\n",
    "posicionX = data['PosicionX']\n",
    "posicionY = data['PosicionY']\n",
    "\n",
    "# Elimino las columnas de posición\n",
    "data = data.drop(['PosicionX', 'PosicionY'], axis=1)\n",
    "\n",
    "columns_modulo = data.columns[::2] # Columnas de los módulos\n",
    "columns_fase = data.columns[1::2] # Columnas de las fases\n",
    "\n",
    "std_devs_modulo = data[columns_modulo].std() # Desviación típica de los módulos\n",
    "std_devs_fase = data[columns_fase].std() # Desviación típica de las fases\n",
    "\n",
    "# Generar ruido con baja escala de desviación típica al módulo\n",
    "low_scale_noise_modulo = np.random.normal(loc=0, scale=0.3*std_devs_modulo, size=data[columns_modulo].shape)\n",
    "\n",
    "# Generar ruido con baja escala de la desviación típica a la fase. Tener en cuenta que la fase está definida dentro de los rangos de -pi a pi.\n",
    "low_scale_noise_fase = np.random.normal(loc=0, scale=0.3*std_devs_fase, size=data[columns_fase].shape)\n",
    "\n",
    "data_noisy = data.copy()\n",
    "data_noisy[columns_modulo] += low_scale_noise_modulo\n",
    "data_noisy[columns_fase] += low_scale_noise_fase\n",
    "# data_noisy[columns_fase] = np.mod(data_noisy[columns_fase] + np.pi, 2*np.pi) - np.pi\n",
    "\n",
    "data_noisy[columns_modulo] = np.clip(data_noisy[columns_modulo], 0, 1)\n",
    "data_noisy[columns_fase] = np.clip(data_noisy[columns_fase], -np.pi, np.pi)\n",
    "\n",
    "data_noisy['PosicionX'] = posicionX\n",
    "data_noisy['PosicionY'] = posicionY\n",
    "\n",
    "data_noisy.to_csv(\"C:/Users/javi2/Desktop/TFG - Webots/TFG/Data/Test Case 2/Ruido bajo/ULA_32.csv\", index=False)\n",
    "\n"
   ]
  },
  {
   "cell_type": "code",
   "execution_count": 12,
   "metadata": {},
   "outputs": [
    {
     "name": "stderr",
     "output_type": "stream",
     "text": [
      "C:\\Users\\javi2\\AppData\\Local\\Temp\\ipykernel_25576\\2583486131.py:29: PerformanceWarning: DataFrame is highly fragmented.  This is usually the result of calling `frame.insert` many times, which has poor performance.  Consider joining all columns at once using pd.concat(axis=1) instead. To get a de-fragmented frame, use `newframe = frame.copy()`\n",
      "  data_noisy['PosicionX'] = posicionX\n",
      "C:\\Users\\javi2\\AppData\\Local\\Temp\\ipykernel_25576\\2583486131.py:30: PerformanceWarning: DataFrame is highly fragmented.  This is usually the result of calling `frame.insert` many times, which has poor performance.  Consider joining all columns at once using pd.concat(axis=1) instead. To get a de-fragmented frame, use `newframe = frame.copy()`\n",
      "  data_noisy['PosicionY'] = posicionY\n"
     ]
    }
   ],
   "source": [
    "data = df.copy()\n",
    "\n",
    "posicionX = data['PosicionX']\n",
    "posicionY = data['PosicionY']\n",
    "\n",
    "# Elimino las columnas de posición\n",
    "data = data.drop(['PosicionX', 'PosicionY'], axis=1)\n",
    "\n",
    "columns_modulo = data.columns[::2] # Columnas de los módulos\n",
    "columns_fase = data.columns[1::2] # Columnas de las fases\n",
    "\n",
    "std_devs_modulo = data[columns_modulo].std() # Desviación típica de los módulos\n",
    "std_devs_fase = data[columns_fase].std() # Desviación típica de las fases\n",
    "\n",
    "# Generar ruido con media escala de desviación típica al módulo\n",
    "low_scale_noise_modulo = np.random.normal(loc=0, scale=0.6*std_devs_modulo, size=data[columns_modulo].shape)\n",
    "\n",
    "# Generar ruido con media escala de la desviación típica a la fase. Tener en cuenta que la fase está definida dentro de los rangos de -pi a pi.\n",
    "low_scale_noise_fase = np.random.normal(loc=0, scale=0.6*std_devs_fase, size=data[columns_fase].shape)\n",
    "\n",
    "data_noisy = data.copy()\n",
    "data_noisy[columns_modulo] += low_scale_noise_modulo\n",
    "data_noisy[columns_fase] += low_scale_noise_fase\n",
    "# data_noisy[columns_fase] = np.mod(data_noisy[columns_fase] + np.pi, 2*np.pi) - np.pi\n",
    "\n",
    "data_noisy[columns_modulo] = np.clip(data_noisy[columns_modulo], 0, 1)\n",
    "data_noisy[columns_fase] = np.clip(data_noisy[columns_fase], -np.pi, np.pi)\n",
    "\n",
    "data_noisy['PosicionX'] = posicionX\n",
    "data_noisy['PosicionY'] = posicionY\n",
    "\n",
    "data_noisy.to_csv(\"C:/Users/javi2/Desktop/TFG - Webots/TFG/Data/Test Case 2/Ruido medio/ULA_32.csv\", index=False)\n",
    "\n"
   ]
  },
  {
   "cell_type": "code",
   "execution_count": 13,
   "metadata": {},
   "outputs": [
    {
     "name": "stderr",
     "output_type": "stream",
     "text": [
      "C:\\Users\\javi2\\AppData\\Local\\Temp\\ipykernel_25576\\1031746285.py:29: PerformanceWarning: DataFrame is highly fragmented.  This is usually the result of calling `frame.insert` many times, which has poor performance.  Consider joining all columns at once using pd.concat(axis=1) instead. To get a de-fragmented frame, use `newframe = frame.copy()`\n",
      "  data_noisy['PosicionX'] = posicionX\n",
      "C:\\Users\\javi2\\AppData\\Local\\Temp\\ipykernel_25576\\1031746285.py:30: PerformanceWarning: DataFrame is highly fragmented.  This is usually the result of calling `frame.insert` many times, which has poor performance.  Consider joining all columns at once using pd.concat(axis=1) instead. To get a de-fragmented frame, use `newframe = frame.copy()`\n",
      "  data_noisy['PosicionY'] = posicionY\n"
     ]
    }
   ],
   "source": [
    "data = df.copy()\n",
    "\n",
    "posicionX = data['PosicionX']\n",
    "posicionY = data['PosicionY']\n",
    "\n",
    "# Elimino las columnas de posición\n",
    "data = data.drop(['PosicionX', 'PosicionY'], axis=1)\n",
    "\n",
    "columns_modulo = data.columns[::2] # Columnas de los módulos\n",
    "columns_fase = data.columns[1::2] # Columnas de las fases\n",
    "\n",
    "std_devs_modulo = data[columns_modulo].std() # Desviación típica de los módulos\n",
    "std_devs_fase = data[columns_fase].std() # Desviación típica de las fases\n",
    "\n",
    "# Generar ruido con elevada escala de desviación típica al módulo\n",
    "low_scale_noise_modulo = np.random.normal(loc=0, scale=1*std_devs_modulo, size=data[columns_modulo].shape)\n",
    "\n",
    "# Generar ruido con elevada escala de la desviación típica a la fase. Tener en cuenta que la fase está definida dentro de los rangos de -pi a pi.\n",
    "low_scale_noise_fase = np.random.normal(loc=0, scale=1*std_devs_fase, size=data[columns_fase].shape)\n",
    "\n",
    "data_noisy = data.copy()\n",
    "data_noisy[columns_modulo] += low_scale_noise_modulo\n",
    "data_noisy[columns_fase] += low_scale_noise_fase\n",
    "# data_noisy[columns_fase] = np.mod(data_noisy[columns_fase] + np.pi, 2*np.pi) - np.pi\n",
    "\n",
    "data_noisy[columns_modulo] = np.clip(data_noisy[columns_modulo], 0, 1)\n",
    "data_noisy[columns_fase] = np.clip(data_noisy[columns_fase], -np.pi, np.pi)\n",
    "\n",
    "data_noisy['PosicionX'] = posicionX\n",
    "data_noisy['PosicionY'] = posicionY\n",
    "\n",
    "data_noisy.to_csv(\"C:/Users/javi2/Desktop/TFG - Webots/TFG/Data/Test Case 2/Ruido elevado/ULA_32.csv\", index=False)\n",
    "\n"
   ]
  },
  {
   "cell_type": "code",
   "execution_count": 14,
   "metadata": {},
   "outputs": [],
   "source": [
    "df = pd.read_csv(\"C:/Users/javi2/Desktop/TFG - Webots/TFG/Data/Test Case 2/No ruido/ULA_64.csv\")"
   ]
  },
  {
   "cell_type": "code",
   "execution_count": 17,
   "metadata": {},
   "outputs": [
    {
     "name": "stderr",
     "output_type": "stream",
     "text": [
      "C:\\Users\\javi2\\AppData\\Local\\Temp\\ipykernel_25576\\763355855.py:29: PerformanceWarning: DataFrame is highly fragmented.  This is usually the result of calling `frame.insert` many times, which has poor performance.  Consider joining all columns at once using pd.concat(axis=1) instead. To get a de-fragmented frame, use `newframe = frame.copy()`\n",
      "  data_noisy['PosicionX'] = posicionX\n",
      "C:\\Users\\javi2\\AppData\\Local\\Temp\\ipykernel_25576\\763355855.py:30: PerformanceWarning: DataFrame is highly fragmented.  This is usually the result of calling `frame.insert` many times, which has poor performance.  Consider joining all columns at once using pd.concat(axis=1) instead. To get a de-fragmented frame, use `newframe = frame.copy()`\n",
      "  data_noisy['PosicionY'] = posicionY\n"
     ]
    }
   ],
   "source": [
    "data = df.copy()\n",
    "\n",
    "posicionX = data['PosicionX']\n",
    "posicionY = data['PosicionY']\n",
    "\n",
    "# Elimino las columnas de posición\n",
    "data = data.drop(['PosicionX', 'PosicionY'], axis=1)\n",
    "\n",
    "columns_modulo = data.columns[::2] # Columnas de los módulos\n",
    "columns_fase = data.columns[1::2] # Columnas de las fases\n",
    "\n",
    "std_devs_modulo = data[columns_modulo].std() # Desviación típica de los módulos\n",
    "std_devs_fase = data[columns_fase].std() # Desviación típica de las fases\n",
    "\n",
    "# Generar ruido con baja escala de desviación típica al módulo\n",
    "low_scale_noise_modulo = np.random.normal(loc=0, scale=0.3*std_devs_modulo, size=data[columns_modulo].shape)\n",
    "\n",
    "# Generar ruido con baja escala de la desviación típica a la fase. Tener en cuenta que la fase está definida dentro de los rangos de -pi a pi.\n",
    "low_scale_noise_fase = np.random.normal(loc=0, scale=0.3*std_devs_fase, size=data[columns_fase].shape)\n",
    "\n",
    "data_noisy = data.copy()\n",
    "data_noisy[columns_modulo] += low_scale_noise_modulo\n",
    "data_noisy[columns_fase] += low_scale_noise_fase\n",
    "# data_noisy[columns_fase] = np.mod(data_noisy[columns_fase] + np.pi, 2*np.pi) - np.pi\n",
    "\n",
    "data_noisy[columns_modulo] = np.clip(data_noisy[columns_modulo], 0, 1)\n",
    "data_noisy[columns_fase] = np.clip(data_noisy[columns_fase], -np.pi, np.pi)\n",
    "\n",
    "data_noisy['PosicionX'] = posicionX\n",
    "data_noisy['PosicionY'] = posicionY\n",
    "\n",
    "data_noisy.to_csv(\"C:/Users/javi2/Desktop/TFG - Webots/TFG/Data/Test Case 2/Ruido bajo/ULA_64.csv\", index=False)\n",
    "\n"
   ]
  },
  {
   "cell_type": "code",
   "execution_count": 15,
   "metadata": {},
   "outputs": [
    {
     "name": "stderr",
     "output_type": "stream",
     "text": [
      "C:\\Users\\javi2\\AppData\\Local\\Temp\\ipykernel_25576\\2024683178.py:29: PerformanceWarning: DataFrame is highly fragmented.  This is usually the result of calling `frame.insert` many times, which has poor performance.  Consider joining all columns at once using pd.concat(axis=1) instead. To get a de-fragmented frame, use `newframe = frame.copy()`\n",
      "  data_noisy['PosicionX'] = posicionX\n",
      "C:\\Users\\javi2\\AppData\\Local\\Temp\\ipykernel_25576\\2024683178.py:30: PerformanceWarning: DataFrame is highly fragmented.  This is usually the result of calling `frame.insert` many times, which has poor performance.  Consider joining all columns at once using pd.concat(axis=1) instead. To get a de-fragmented frame, use `newframe = frame.copy()`\n",
      "  data_noisy['PosicionY'] = posicionY\n"
     ]
    }
   ],
   "source": [
    "data = df.copy()\n",
    "\n",
    "posicionX = data['PosicionX']\n",
    "posicionY = data['PosicionY']\n",
    "\n",
    "# Elimino las columnas de posición\n",
    "data = data.drop(['PosicionX', 'PosicionY'], axis=1)\n",
    "\n",
    "columns_modulo = data.columns[::2] # Columnas de los módulos\n",
    "columns_fase = data.columns[1::2] # Columnas de las fases\n",
    "\n",
    "std_devs_modulo = data[columns_modulo].std() # Desviación típica de los módulos\n",
    "std_devs_fase = data[columns_fase].std() # Desviación típica de las fases\n",
    "\n",
    "# Generar ruido con media escala de desviación típica al módulo\n",
    "low_scale_noise_modulo = np.random.normal(loc=0, scale=0.6*std_devs_modulo, size=data[columns_modulo].shape)\n",
    "\n",
    "# Generar ruido con media escala de la desviación típica a la fase. Tener en cuenta que la fase está definida dentro de los rangos de -pi a pi.\n",
    "low_scale_noise_fase = np.random.normal(loc=0, scale=0.6*std_devs_fase, size=data[columns_fase].shape)\n",
    "\n",
    "data_noisy = data.copy()\n",
    "data_noisy[columns_modulo] += low_scale_noise_modulo\n",
    "data_noisy[columns_fase] += low_scale_noise_fase\n",
    "# data_noisy[columns_fase] = np.mod(data_noisy[columns_fase] + np.pi, 2*np.pi) - np.pi\n",
    "\n",
    "data_noisy[columns_modulo] = np.clip(data_noisy[columns_modulo], 0, 1)\n",
    "data_noisy[columns_fase] = np.clip(data_noisy[columns_fase], -np.pi, np.pi)\n",
    "\n",
    "data_noisy['PosicionX'] = posicionX\n",
    "data_noisy['PosicionY'] = posicionY\n",
    "\n",
    "data_noisy.to_csv(\"C:/Users/javi2/Desktop/TFG - Webots/TFG/Data/Test Case 2/Ruido medio/ULA_64.csv\", index=False)\n",
    "\n"
   ]
  },
  {
   "cell_type": "code",
   "execution_count": 16,
   "metadata": {},
   "outputs": [
    {
     "name": "stderr",
     "output_type": "stream",
     "text": [
      "C:\\Users\\javi2\\AppData\\Local\\Temp\\ipykernel_25576\\1960239892.py:29: PerformanceWarning: DataFrame is highly fragmented.  This is usually the result of calling `frame.insert` many times, which has poor performance.  Consider joining all columns at once using pd.concat(axis=1) instead. To get a de-fragmented frame, use `newframe = frame.copy()`\n",
      "  data_noisy['PosicionX'] = posicionX\n",
      "C:\\Users\\javi2\\AppData\\Local\\Temp\\ipykernel_25576\\1960239892.py:30: PerformanceWarning: DataFrame is highly fragmented.  This is usually the result of calling `frame.insert` many times, which has poor performance.  Consider joining all columns at once using pd.concat(axis=1) instead. To get a de-fragmented frame, use `newframe = frame.copy()`\n",
      "  data_noisy['PosicionY'] = posicionY\n"
     ]
    }
   ],
   "source": [
    "data = df.copy()\n",
    "\n",
    "posicionX = data['PosicionX']\n",
    "posicionY = data['PosicionY']\n",
    "\n",
    "# Elimino las columnas de posición\n",
    "data = data.drop(['PosicionX', 'PosicionY'], axis=1)\n",
    "\n",
    "columns_modulo = data.columns[::2] # Columnas de los módulos\n",
    "columns_fase = data.columns[1::2] # Columnas de las fases\n",
    "\n",
    "std_devs_modulo = data[columns_modulo].std() # Desviación típica de los módulos\n",
    "std_devs_fase = data[columns_fase].std() # Desviación típica de las fases\n",
    "\n",
    "# Generar ruido con elevada escala de desviación típica al módulo\n",
    "low_scale_noise_modulo = np.random.normal(loc=0, scale=1*std_devs_modulo, size=data[columns_modulo].shape)\n",
    "\n",
    "# Generar ruido con elevada escala de la desviación típica a la fase. Tener en cuenta que la fase está definida dentro de los rangos de -pi a pi.\n",
    "low_scale_noise_fase = np.random.normal(loc=0, scale=1*std_devs_fase, size=data[columns_fase].shape)\n",
    "\n",
    "data_noisy = data.copy()\n",
    "data_noisy[columns_modulo] += low_scale_noise_modulo\n",
    "data_noisy[columns_fase] += low_scale_noise_fase\n",
    "# data_noisy[columns_fase] = np.mod(data_noisy[columns_fase] + np.pi, 2*np.pi) - np.pi\n",
    "\n",
    "data_noisy[columns_modulo] = np.clip(data_noisy[columns_modulo], 0, 1)\n",
    "data_noisy[columns_fase] = np.clip(data_noisy[columns_fase], -np.pi, np.pi)\n",
    "\n",
    "data_noisy['PosicionX'] = posicionX\n",
    "data_noisy['PosicionY'] = posicionY\n",
    "\n",
    "data_noisy.to_csv(\"C:/Users/javi2/Desktop/TFG - Webots/TFG/Data/Test Case 2/Ruido elevado/ULA_64.csv\", index=False)\n",
    "\n"
   ]
  }
 ],
 "metadata": {
  "kernelspec": {
   "display_name": "Python 3",
   "language": "python",
   "name": "python3"
  },
  "language_info": {
   "codemirror_mode": {
    "name": "ipython",
    "version": 3
   },
   "file_extension": ".py",
   "mimetype": "text/x-python",
   "name": "python",
   "nbconvert_exporter": "python",
   "pygments_lexer": "ipython3",
   "version": "3.11.9"
  }
 },
 "nbformat": 4,
 "nbformat_minor": 2
}
