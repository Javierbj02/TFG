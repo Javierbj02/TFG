{
 "cells": [
  {
   "cell_type": "code",
   "execution_count": 20,
   "metadata": {},
   "outputs": [],
   "source": [
    "import pandas as pd"
   ]
  },
  {
   "cell_type": "code",
   "execution_count": 11,
   "metadata": {},
   "outputs": [],
   "source": [
    "df = pd.read_csv(\"C:/Users/javi2/Desktop/TFG - Webots/TFG/Data/Test Case 2/No ruido/ULA_64.csv\")\n",
    "\n",
    "subsampled_df = df.groupby(df.index // 4).head(3)\n",
    "\n",
    "subsampled_df.to_csv(\"C:/Users/javi2/Desktop/TFG - Webots/TFG/Data/Test Case 2/No ruido/ULA_64.csv\", index=False)"
   ]
  },
  {
   "cell_type": "code",
   "execution_count": 21,
   "metadata": {},
   "outputs": [],
   "source": [
    "df = pd.read_csv(\"C:/Users/javi2/Desktop/TFG - Webots/TFG/Data/Test Case 2/Ruido bajo/ULA_64.csv\")\n",
    "\n",
    "subsampled_df = df.groupby(df.index // 4).head(3)\n",
    "\n",
    "subsampled_df.to_csv(\"C:/Users/javi2/Desktop/TFG - Webots/TFG/Data/Test Case 2/Ruido bajo/ULA_64.csv\", index=False)"
   ]
  },
  {
   "cell_type": "code",
   "execution_count": 22,
   "metadata": {},
   "outputs": [],
   "source": [
    "df = pd.read_csv(\"C:/Users/javi2/Desktop/TFG - Webots/TFG/Data/Test Case 2/Ruido medio/ULA_64.csv\")\n",
    "\n",
    "subsampled_df = df.groupby(df.index // 4).head(3)\n",
    "\n",
    "subsampled_df.to_csv(\"C:/Users/javi2/Desktop/TFG - Webots/TFG/Data/Test Case 2/Ruido medio/ULA_64.csv\", index=False)"
   ]
  },
  {
   "cell_type": "code",
   "execution_count": 23,
   "metadata": {},
   "outputs": [],
   "source": [
    "df = pd.read_csv(\"C:/Users/javi2/Desktop/TFG - Webots/TFG/Data/Test Case 2/Ruido elevado/ULA_64.csv\")\n",
    "\n",
    "subsampled_df = df.groupby(df.index // 4).head(3)\n",
    "\n",
    "subsampled_df.to_csv(\"C:/Users/javi2/Desktop/TFG - Webots/TFG/Data/Test Case 2/Ruido elevado/ULA_64.csv\", index=False)"
   ]
  }
 ],
 "metadata": {
  "kernelspec": {
   "display_name": "Python 3",
   "language": "python",
   "name": "python3"
  },
  "language_info": {
   "codemirror_mode": {
    "name": "ipython",
    "version": 3
   },
   "file_extension": ".py",
   "mimetype": "text/x-python",
   "name": "python",
   "nbconvert_exporter": "python",
   "pygments_lexer": "ipython3",
   "version": "3.11.9"
  }
 },
 "nbformat": 4,
 "nbformat_minor": 2
}
